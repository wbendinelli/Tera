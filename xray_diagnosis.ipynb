{
  "nbformat": 4,
  "nbformat_minor": 0,
  "metadata": {
    "colab": {
      "provenance": [],
      "authorship_tag": "ABX9TyNYBFz1sXKf6y7a1tjm4sV5",
      "include_colab_link": true
    },
    "kernelspec": {
      "name": "python3",
      "display_name": "Python 3"
    },
    "language_info": {
      "name": "python"
    },
    "accelerator": "GPU",
    "gpuClass": "standard"
  },
  "cells": [
    {
      "cell_type": "markdown",
      "metadata": {
        "id": "view-in-github",
        "colab_type": "text"
      },
      "source": [
        "<a href=\"https://colab.research.google.com/github/wbendinelli/Tera/blob/main/xray_diagnosis.ipynb\" target=\"_parent\"><img src=\"https://colab.research.google.com/assets/colab-badge.svg\" alt=\"Open In Colab\"/></a>"
      ]
    },
    {
      "cell_type": "markdown",
      "source": [
        "# **Project goal**\n",
        "\n",
        "Artificial intelligence (AI) has the potencial to revolutionize desease diagnosis and management by performing classification difficult for human exprtes and by rapidly reviewing immense amount of images. In this project, based on the article Kermany (2018), our objective is to classify individuals with pneumonia. After this first phase, our idea is to identify the cause of the pneumonia, whether it is viral or bacterial.\n",
        "\n",
        "## **Dataset description**\n",
        "\n",
        "The dataset is organized into 2 folders (train, test) and contains subfolders for each image category (pneumonia/normal). There are 5,863 X-Ray images (JPEG) and 2 categories (pneumonia/normal). Chest X-ray images (anterior-posterior) were selected from retrospective cohorts of pediatric patients of one to five years old from Guangzhou Women and Children’s Medical Center, Guangzhou. All chest X-ray imaging was performed as part of patients’ routine clinical care. For the analysis of chest x-ray images, all chest radiographs were initially screened for quality control by removing all low quality or unreadable scans. The diagnoses for the images were then graded by two expert physicians before being cleared for training the AI system. In order to account for any grading errors, the evaluation set was also checkd by a third expert.\n",
        "\n",
        "**Reference**: Kermany, Daniel S., et al. \"[Identifying medical diagnoses and treatable diseases by image-based deep learning](https://www.sciencedirect.com/science/article/pii/S0092867418301545).\" Cell 172.5 (2018): 1122-1131.\n",
        "\n"
      ],
      "metadata": {
        "id": "mKSGRWFXPWtd"
      }
    },
    {
      "cell_type": "markdown",
      "source": [
        "# Importing files\n"
      ],
      "metadata": {
        "id": "uM9pp_-8PuyE"
      }
    },
    {
      "cell_type": "code",
      "execution_count": 1,
      "metadata": {
        "colab": {
          "base_uri": "https://localhost:8080/"
        },
        "id": "WguiWf5vPI5M",
        "outputId": "3a744542-b436-40c1-cc21-0e6c74aa2536"
      },
      "outputs": [
        {
          "output_type": "stream",
          "name": "stdout",
          "text": [
            "Mounted at /content/drive\n",
            "test  train\n"
          ]
        }
      ],
      "source": [
        "# Creating connection with Google Drive\n",
        "from google.colab import drive\n",
        "drive.mount('/content/drive')\n",
        "!ls drive/MyDrive/pneumonia_detection/chest_xray/"
      ]
    },
    {
      "cell_type": "code",
      "source": [
        "# Libraries used\n",
        "from pathlib import Path\n",
        "import pandas as pd\n",
        "import os\n",
        "import numpy as np\n",
        "\n",
        "# Defining path to the data directory\n",
        "data_dir = Path('drive/MyDrive/pneumonia_detection/chest_xray/')\n",
        "\n",
        "# Pathing to train directory\n",
        "train_dir = data_dir / 'train'\n",
        "\n",
        "# Pathing to test directory\n",
        "test_dir = data_dir / 'test'"
      ],
      "metadata": {
        "id": "wAJjEjaMQLA7"
      },
      "execution_count": 2,
      "outputs": []
    },
    {
      "cell_type": "markdown",
      "source": [
        "#Merging all files\n",
        "\n",
        "\n"
      ],
      "metadata": {
        "id": "upoqoV41R97V"
      }
    },
    {
      "cell_type": "code",
      "source": [
        "# Getting the path to the normal and pneumonia sub-directories in train_dir\n",
        "normal_cases_train_dir = train_dir / 'NORMAL'\n",
        "pneumonia_cases_train_dir = train_dir / 'PNEUMONIA'\n",
        "\n",
        "# Getting the path to the normal and pneumonia sub-directories in test_dir\n",
        "normal_cases_test_dir = test_dir / 'NORMAL'\n",
        "pneumonia_cases_test_dir = test_dir / 'PNEUMONIA'"
      ],
      "metadata": {
        "id": "SW6-KRpNQzzG"
      },
      "execution_count": 3,
      "outputs": []
    },
    {
      "cell_type": "code",
      "source": [
        "# Validating the number of images originally split between training and test\n",
        "list_path = [normal_cases_train_dir, \n",
        "             pneumonia_cases_train_dir,\n",
        "             normal_cases_test_dir, \n",
        "             pneumonia_cases_test_dir]\n",
        "\n",
        "for x in list_path:\n",
        "  print(f'The number of images in the selected folder is {len(os.listdir(x))}')\n",
        "\n",
        "#Comment: As we can see, the number of images distributed between the training \n",
        "#and test folders are biased and, therefore, our strategy will be to create a single\n",
        "#folder with all the images to then correctly split these images."
      ],
      "metadata": {
        "colab": {
          "base_uri": "https://localhost:8080/"
        },
        "id": "VgEcPaK0bp-E",
        "outputId": "07f9b405-8737-4d16-bb85-4b6349055a99"
      },
      "execution_count": 4,
      "outputs": [
        {
          "output_type": "stream",
          "name": "stdout",
          "text": [
            "The number of images in the selected folder is 1349\n",
            "The number of images in the selected folder is 3884\n",
            "The number of images in the selected folder is 234\n",
            "The number of images in the selected folder is 390\n"
          ]
        }
      ]
    },
    {
      "cell_type": "code",
      "source": [
        "# Getting the list with all the images\n",
        "all_img = []\n",
        "\n",
        "for x in list_path:\n",
        "  all_img.extend(x.glob('*'))\n",
        "  print(f'all images from directory {x} have been listed!')"
      ],
      "metadata": {
        "colab": {
          "base_uri": "https://localhost:8080/"
        },
        "id": "XJivVDchoqkd",
        "outputId": "aa706f79-fa1d-40a0-d99c-511616181d7e"
      },
      "execution_count": 5,
      "outputs": [
        {
          "output_type": "stream",
          "name": "stdout",
          "text": [
            "all images from directory drive/MyDrive/pneumonia_detection/chest_xray/train/NORMAL have been listed!\n",
            "all images from directory drive/MyDrive/pneumonia_detection/chest_xray/train/PNEUMONIA have been listed!\n",
            "all images from directory drive/MyDrive/pneumonia_detection/chest_xray/test/NORMAL have been listed!\n",
            "all images from directory drive/MyDrive/pneumonia_detection/chest_xray/test/PNEUMONIA have been listed!\n"
          ]
        }
      ]
    },
    {
      "cell_type": "markdown",
      "source": [
        "#Labeling types of pneumonia"
      ],
      "metadata": {
        "id": "FCZtLBUShk-N"
      }
    },
    {
      "cell_type": "code",
      "source": [
        "# Transforming list with all images into a dataframe\n",
        "df_all_img = pd.DataFrame(all_img, columns=['complete_path'],index=None)"
      ],
      "metadata": {
        "id": "KryJy2I2vT8z"
      },
      "execution_count": 6,
      "outputs": []
    },
    {
      "cell_type": "code",
      "source": [
        "# Getting the path last name\n",
        "df_all_img['basename_path'] = None\n",
        "\n",
        "for index in df_all_img['complete_path'].index:\n",
        "  df_all_img['basename_path'][index] = os.path.basename(df_all_img['complete_path'][index]) "
      ],
      "metadata": {
        "id": "a0UKo9XV9cgj"
      },
      "execution_count": 7,
      "outputs": []
    },
    {
      "cell_type": "code",
      "source": [
        "# Dummifying variables from path name \n",
        "df_all_img['bacteria_pneumonia'] = df_all_img['basename_path'].str.contains(\"bacteria\", case=False)\n",
        "df_all_img['bacteria_pneumonia'].replace({False: 0, True: 1}, inplace=True)\n",
        "\n",
        "df_all_img['viral_pneumonia'] = df_all_img['basename_path'].str.contains(\"virus\", case=False)\n",
        "df_all_img['viral_pneumonia'].replace({False: 0, True: 1}, inplace=True)\n",
        "\n",
        "conditions = [(df_all_img['bacteria_pneumonia'] == 1) | \n",
        "              (df_all_img['viral_pneumonia'] == 1),\n",
        "              (df_all_img['bacteria_pneumonia'] == 0) | \n",
        "              (df_all_img['viral_pneumonia'] == 0)\n",
        "             ]\n",
        "\n",
        "results = [0, 1]\n",
        "           \n",
        "df_all_img['without_pneumonia'] = np.select(conditions, results)"
      ],
      "metadata": {
        "id": "JJZw_s8uBWdG"
      },
      "execution_count": 8,
      "outputs": []
    },
    {
      "cell_type": "markdown",
      "source": [
        "# Viewing database samples"
      ],
      "metadata": {
        "id": "4StlgEIqQH-r"
      }
    },
    {
      "cell_type": "code",
      "source": [
        "import seaborn as sns\n",
        "import numpy as np\n",
        "import matplotlib.pyplot as plt\n",
        "import matplotlib.patches as mpatches\n",
        "from skimage.io import imread\n",
        "from pylab import *\n",
        "import cv2\n",
        "\n",
        "# Get few samples for both the classes\n",
        "viral_pneumonia_samples = (df_all_img[df_all_img['viral_pneumonia']==1].sample(n=5, replace=True, random_state=1))\n",
        "bacteria_pneumonia_samples = (df_all_img[(df_all_img['bacteria_pneumonia']==1)].sample(n=5, replace=True, random_state=1))\n",
        "without_pneumonia_samples = (df_all_img[df_all_img['without_pneumonia']==1].sample(n=5, replace=True, random_state=1))\n",
        "\n",
        "# Concat the data in a single list \n",
        "samples = viral_pneumonia_samples.append(bacteria_pneumonia_samples).append(without_pneumonia_samples).reset_index()['complete_path']\n",
        "\n",
        "# Plot the data \n",
        "fig, ax = plt.subplots(3,5, figsize=(20,10))\n",
        "fig.subplots_adjust(hspace = .5, wspace=.001)\n",
        "\n",
        "ax = ax.ravel()\n",
        "\n",
        "for i in range(15):\n",
        "    img = imread(samples[i])\n",
        "    img = cv2.resize(img, (244,244))\n",
        "    ax[i].imshow(img, cmap='gray')\n",
        "\n",
        "    if i<=4:\n",
        "        ax[i].set_title(\"Viral pneumonia\")\n",
        "    \n",
        "    elif i>4 and i<=9:\n",
        "        ax[i].set_title(\"Bacterial pneumonia\")\n",
        "    \n",
        "    else:\n",
        "        ax[i].set_title(\"Without pneumonia\")\n",
        "        ax[i].axis('off')\n",
        "        #ax[i].set_aspect('auto')\n",
        "\n",
        "plt.show()"
      ],
      "metadata": {
        "colab": {
          "base_uri": "https://localhost:8080/",
          "height": 591
        },
        "id": "x8KBx4U7PuTx",
        "outputId": "b879a725-6648-4e60-c829-e2e5da65eaac"
      },
      "execution_count": 9,
      "outputs": [
        {
          "output_type": "display_data",
          "data": {
            "text/plain": [
              "<Figure size 1440x720 with 15 Axes>"
            ],
            "image/png": "[encoded data removed]"
          },
          "metadata": {
            "needs_background": "light"
          }
        }
      ]
    },
    {
      "cell_type": "markdown",
      "source": [
        "#Exploratory Data Analysis\n",
        "\n"
      ],
      "metadata": {
        "id": "SCzb-jI7iNSK"
      }
    },
    {
      "cell_type": "code",
      "source": [
        "# Summarizing values for pneumonia and type of pneumonia \n",
        "total_img = (df_all_img['bacteria_pneumonia'] + df_all_img['viral_pneumonia'] + df_all_img['without_pneumonia']).sum()\n",
        "perc_pneumonia_img = (df_all_img['bacteria_pneumonia'] + df_all_img['viral_pneumonia']).sum()/total_img*100\n",
        "perc_pneumonia_bacterial_img = df_all_img['bacteria_pneumonia'].sum()/(df_all_img['bacteria_pneumonia'] + df_all_img['viral_pneumonia']).sum()*100\n",
        "perc_pneumonia_bacterial_all_img = df_all_img['bacteria_pneumonia'].sum()/total_img*100\n",
        "\n",
        "print(f'The dataset has a total of {total_img} images. These images has {perc_pneumonia_img:.2f}% pacients with pneumonia. Of these images with pneumonia, {perc_pneumonia_bacterial_img:.2f}% are caused by or, in another words, {perc_pneumonia_bacterial_all_img:.2f}% of total images.')"
      ],
      "metadata": {
        "colab": {
          "base_uri": "https://localhost:8080/"
        },
        "id": "l5ZgKu4NiNrY",
        "outputId": "a9531447-e8a8-4f83-eb20-0b0fd02cb8b9"
      },
      "execution_count": 10,
      "outputs": [
        {
          "output_type": "stream",
          "name": "stdout",
          "text": [
            "The dataset has a total of 5857 images. These images has 72.96% pacients with pneumonia. Of these images with pneumonia, 65.06% are caused by or, in another words, 47.46% of total images.\n"
          ]
        }
      ]
    },
    {
      "cell_type": "markdown",
      "source": [
        "#Splitting dataset"
      ],
      "metadata": {
        "id": "iZo-WWEMwjXN"
      }
    },
    {
      "cell_type": "code",
      "source": [
        "#Creating the labels for pneumonia types\n",
        "conditions = [(df_all_img['without_pneumonia'] == 1),\n",
        "              (df_all_img['bacteria_pneumonia'] == 1),  \n",
        "              (df_all_img['viral_pneumonia'] == 1)\n",
        "             ]\n",
        "\n",
        "results = [0, 1, 2]\n",
        "           \n",
        "df_all_img['label'] = np.select(conditions, results)\n",
        "\n",
        "#Tranforming variables to string\n",
        "df_all_img['complete_path'] = df_all_img['complete_path'].astype(str)\n",
        "df_all_img['label'] = df_all_img['label'].astype(str)"
      ],
      "metadata": {
        "id": "zofWvs-Qwieh"
      },
      "execution_count": 13,
      "outputs": []
    },
    {
      "cell_type": "code",
      "source": [
        "#df_all_img = df_all_img.sample(n=50)\n",
        "\n",
        "#from sklearn.model_selection import train_test_split\n",
        "#X_train, X_test, y_train, y_test = train_test_split(df_all_img['complete_path'], df_all_img['label'],\n",
        "#                                                    stratify=df_all_img['label'], \n",
        "#                                                    test_size=0.25)"
      ],
      "metadata": {
        "id": "5BF3kUkz00KO"
      },
      "execution_count": null,
      "outputs": []
    },
    {
      "cell_type": "code",
      "source": [
        "#img_height = 244\n",
        "#img_width = 244\n",
        "\n",
        "#Defining steps to treat the images\n",
        "\n",
        "#def transform_resize_normalize(splitted_df):\n",
        "\n",
        "#  dataframe = []\n",
        "\n",
        "#  for img in splitted_df['complete_path']:\n",
        "#     try:\n",
        "#         img = cv2.imread(str(img)) #reading the path\n",
        "#         img = cv2.resize(img, (img_height, img_width), interpolation = cv2.INTER_NEAREST) #resizing image and interpolation nearest pixels\n",
        "#         if img.shape[2]==1:\n",
        "#           img = np.dstack([img, img, img])\n",
        "#         img = cv2.cvtColor(img, cv2.COLOR_BGR2GRAY) #converting to grayscale\n",
        "#         img = img.astype(np.float32)/255 #normalizing images\n",
        "#         dataframe.append(img)\n",
        "  \n",
        "#     except Exception as e:\n",
        "#        print(e)\n",
        "\n",
        "#  return np.array(dataframe)"
      ],
      "metadata": {
        "id": "GWDJ6Du0fWgB"
      },
      "execution_count": null,
      "outputs": []
    },
    {
      "cell_type": "code",
      "source": [
        "from sklearn.model_selection import train_test_split\n",
        "\n",
        "# In the first step we will split the data in training and remaining dataset\n",
        "train_ds, interm_df  = train_test_split(df_all_img, stratify=df_all_img['label'], train_size=0.7)\n",
        "\n",
        "# Now since we want the valid and test size to be equal (10% each of overall data). \n",
        "# We have to define valid_size=0.5 (that is 50% of remaining data)\n",
        "test_size = 0.5\n",
        "test_ds, validation_ds = train_test_split(interm_df, stratify = interm_df['label'], test_size=0.5)\n",
        "\n",
        "print(train_ds.shape)\n",
        "print(test_ds.shape)\n",
        "print(validation_ds.shape)"
      ],
      "metadata": {
        "id": "yQKD7PqgHxDw",
        "colab": {
          "base_uri": "https://localhost:8080/"
        },
        "outputId": "0d2f16be-177a-4b24-abe8-dc2fff866f94"
      },
      "execution_count": 26,
      "outputs": [
        {
          "output_type": "stream",
          "name": "stdout",
          "text": [
            "(4099, 6)\n",
            "(879, 6)\n",
            "(879, 6)\n"
          ]
        }
      ]
    },
    {
      "cell_type": "code",
      "source": [
        "def stratify_validation(dataframe):\n",
        "  total_img = (dataframe['bacteria_pneumonia'] + dataframe['viral_pneumonia'] + dataframe['without_pneumonia']).sum()\n",
        "  perc_pneumonia_img = (dataframe['bacteria_pneumonia'] + dataframe['viral_pneumonia']).sum()/total_img*100\n",
        "  perc_pneumonia_bacterial_img = dataframe['bacteria_pneumonia'].sum()/(dataframe['bacteria_pneumonia'] + dataframe['viral_pneumonia']).sum()*100\n",
        "  perc_pneumonia_bacterial_all_img = dataframe['bacteria_pneumonia'].sum()/total_img*100\n",
        "  \n",
        "  return print(f'The dataset has a total of {total_img} images. These images has {perc_pneumonia_img:.2f}% pacients with pneumonia. Of these images with pneumonia, {perc_pneumonia_bacterial_img:.2f}% are caused by or, in another words, {perc_pneumonia_bacterial_all_img:.2f}% of total images.')\n"
      ],
      "metadata": {
        "id": "pMthvQWp23B3"
      },
      "execution_count": 41,
      "outputs": []
    },
    {
      "cell_type": "code",
      "source": [
        "#Checking the distribution of training, testing and validation datasets\n",
        "stratify_validation(train_ds)\n",
        "stratify_validation(test_ds)\n",
        "stratify_validation(validation_ds)"
      ],
      "metadata": {
        "colab": {
          "base_uri": "https://localhost:8080/"
        },
        "id": "YrRRuJh23wTT",
        "outputId": "2aebf83d-f275-420e-b985-adfb1cd562c5"
      },
      "execution_count": 43,
      "outputs": [
        {
          "output_type": "stream",
          "name": "stdout",
          "text": [
            "The dataset has a total of 4099 images. These images has 72.97% pacients with pneumonia. Of these images with pneumonia, 65.06% are caused by or, in another words, 47.47% of total images.\n",
            "The dataset has a total of 879 images. These images has 72.92% pacients with pneumonia. Of these images with pneumonia, 65.05% are caused by or, in another words, 47.44% of total images.\n",
            "The dataset has a total of 879 images. These images has 72.92% pacients with pneumonia. Of these images with pneumonia, 65.05% are caused by or, in another words, 47.44% of total images.\n"
          ]
        }
      ]
    },
    {
      "cell_type": "code",
      "source": [
        "#x_train = transform_resize_normalize(X_train)\n",
        "#x_test = transform_resize_normalize(X_test)"
      ],
      "metadata": {
        "colab": {
          "base_uri": "https://localhost:8080/"
        },
        "id": "yx9f9snj6bGJ",
        "outputId": "27064571-a854-42c4-f798-799472e7077d"
      },
      "execution_count": null,
      "outputs": [
        {
          "output_type": "stream",
          "name": "stdout",
          "text": [
            "OpenCV(4.6.0) /io/opencv/modules/imgproc/src/resize.cpp:4052: error: (-215:Assertion failed) !ssize.empty() in function 'resize'\n",
            "\n"
          ]
        }
      ]
    },
    {
      "cell_type": "code",
      "source": [
        "#x_train = x_train.reshape(-1, img_height, img_width, 1) #reshaping dataset\n",
        "#x_test = x_test.reshape(-1, img_height, img_width, 1) #reshaping dataset \n",
        "#y_train = np.array(y_train) #reshaping dataset \n",
        "#y_test = np.array(y_test) #reshaping dataset \n"
      ],
      "metadata": {
        "id": "vz0hg-rgm2qh"
      },
      "execution_count": null,
      "outputs": []
    },
    {
      "cell_type": "markdown",
      "source": [
        "#Data Augmentation"
      ],
      "metadata": {
        "id": "sSUnR0GfKL80"
      }
    },
    {
      "cell_type": "code",
      "source": [
        "# With data augmentation to prevent overfitting and handling the imbalance in dataset\n",
        "\n",
        "from keras.preprocessing.image import ImageDataGenerator\n",
        "\n",
        "datagen = ImageDataGenerator(\n",
        "        featurewise_center=False,  # set input mean to 0 over the dataset\n",
        "        samplewise_center=False,  # set each sample mean to 0\n",
        "        featurewise_std_normalization=False,  # divide inputs by std of the dataset\n",
        "        samplewise_std_normalization=False,  # divide each input by its std\n",
        "        zca_whitening=False,  # apply ZCA whitening\n",
        "        rotation_range = 30,  # randomly rotate images in the range (degrees, 0 to 180)\n",
        "        zoom_range = 0.2, # Randomly zoom image \n",
        "        width_shift_range=0.1,  # randomly shift images horizontally (fraction of total width)\n",
        "        height_shift_range=0.1,  # randomly shift images vertically (fraction of total height)\n",
        "        horizontal_flip = True,  # randomly flip images\n",
        "        vertical_flip=False)  # randomly flip images\n",
        "\n",
        "\n",
        "datagen.fit(x_train)"
      ],
      "metadata": {
        "id": "25DWn3LUiID_"
      },
      "execution_count": null,
      "outputs": []
    },
    {
      "cell_type": "code",
      "source": [
        "batch_size = 32\n",
        "\n",
        "x_train = datagen.flow_from_dataframe(X_train,\n",
        "                                       x_col = 'complete_path',\n",
        "                                       y_col = 'label',\n",
        "                                       target_size = (img_height, img_width),\n",
        "                                       class_mode = 'categorical',\n",
        "                                       batch_size = batch_size,\n",
        "                                       color_mode='grayscale')\n",
        "\n",
        "x_test = datagen.flow_from_dataframe(X_test,\n",
        "                                       x_col = 'complete_path',\n",
        "                                       y_col = 'label',\n",
        "                                       target_size = (img_height, img_width),\n",
        "                                       class_mode = 'categorical',\n",
        "                                       batch_size = batch_size,\n",
        "                                       color_mode='grayscale')"
      ],
      "metadata": {
        "colab": {
          "base_uri": "https://localhost:8080/"
        },
        "id": "xQMj3fM3LpR5",
        "outputId": "0c6f2fb6-6452-4d3d-d591-49733d26a2fb"
      },
      "execution_count": null,
      "outputs": [
        {
          "output_type": "stream",
          "name": "stdout",
          "text": [
            "Found 4684 validated image filenames belonging to 3 classes.\n"
          ]
        },
        {
          "output_type": "stream",
          "name": "stderr",
          "text": [
            "/usr/local/lib/python3.8/dist-packages/keras/preprocessing/image.py:1137: UserWarning: Found 1 invalid image filename(s) in x_col=\"complete_path\". These filename(s) will be ignored.\n",
            "  warnings.warn(\n"
          ]
        },
        {
          "output_type": "stream",
          "name": "stdout",
          "text": [
            "Found 1172 validated image filenames belonging to 3 classes.\n"
          ]
        }
      ]
    },
    {
      "cell_type": "markdown",
      "source": [
        "#Build CNN"
      ],
      "metadata": {
        "id": "L7ZIv6eaMmRU"
      }
    },
    {
      "cell_type": "code",
      "source": [
        "import keras.backend as K\n",
        "from keras.models import Model, Sequential\n",
        "from keras.layers import Input, Dense, Flatten, Dropout, BatchNormalization\n",
        "from keras.layers import Conv2D, SeparableConv2D, MaxPool2D, LeakyReLU, Activation\n",
        "from keras.optimizers import Adam\n",
        "from keras.preprocessing.image import ImageDataGenerator\n",
        "from keras.callbacks import ModelCheckpoint, ReduceLROnPlateau, EarlyStopping\n",
        "import tensorflow as tf\n",
        "\n",
        "\n",
        "img_dims = 244\n",
        "epochs = 10\n",
        "batch_size = 32\n",
        "\n",
        "\n",
        "inputs = Input(shape=(img_dims, img_dims, 1))\n",
        "\n",
        "# First conv block\n",
        "x = Conv2D(filters=16, kernel_size=(3, 3), activation='relu', padding='same')(inputs)\n",
        "x = Conv2D(filters=16, kernel_size=(3, 3), activation='relu', padding='same')(x)\n",
        "x = MaxPool2D(pool_size=(2, 2))(x)\n",
        "\n",
        "# Second conv block\n",
        "x = SeparableConv2D(filters=32, kernel_size=(3, 3), activation='relu', padding='same')(x)\n",
        "x = SeparableConv2D(filters=32, kernel_size=(3, 3), activation='relu', padding='same')(x)\n",
        "x = BatchNormalization()(x)\n",
        "x = MaxPool2D(pool_size=(2, 2))(x)\n",
        "\n",
        "# Third conv block\n",
        "x = SeparableConv2D(filters=64, kernel_size=(3, 3), activation='relu', padding='same')(x)\n",
        "x = SeparableConv2D(filters=64, kernel_size=(3, 3), activation='relu', padding='same')(x)\n",
        "x = BatchNormalization()(x)\n",
        "x = MaxPool2D(pool_size=(2, 2))(x)\n",
        "\n",
        "# Fourth conv block\n",
        "x = SeparableConv2D(filters=128, kernel_size=(3, 3), activation='relu', padding='same')(x)\n",
        "x = SeparableConv2D(filters=128, kernel_size=(3, 3), activation='relu', padding='same')(x)\n",
        "x = BatchNormalization()(x)\n",
        "x = MaxPool2D(pool_size=(2, 2))(x)\n",
        "x = Dropout(rate=0.2)(x)\n",
        "\n",
        "# Fifth conv block\n",
        "x = SeparableConv2D(filters=256, kernel_size=(3, 3), activation='relu', padding='same')(x)\n",
        "x = SeparableConv2D(filters=256, kernel_size=(3, 3), activation='relu', padding='same')(x)\n",
        "x = BatchNormalization()(x)\n",
        "x = MaxPool2D(pool_size=(2, 2))(x)\n",
        "x = Dropout(rate=0.2)(x)\n",
        "\n",
        "# FC layer\n",
        "x = Flatten()(x)\n",
        "x = Dense(units=512, activation='relu')(x)\n",
        "x = Dropout(rate=0.7)(x)\n",
        "x = Dense(units=128, activation='relu')(x)\n",
        "x = Dropout(rate=0.5)(x)\n",
        "x = Dense(units=64, activation='relu')(x)\n",
        "x = Dropout(rate=0.3)(x)\n",
        "\n",
        "# Output layer\n",
        "output = Dense(units=3, activation='sigmoid')(x)\n",
        "\n",
        "# Creating model and compiling\n",
        "\n",
        "METRICS = [\n",
        "        tf.keras.metrics.BinaryAccuracy(),\n",
        "        tf.keras.metrics.Precision(name=\"precision\"),\n",
        "        tf.keras.metrics.Recall(name=\"recall\"),\n",
        "    ]\n",
        "\n",
        "\n",
        "model = Model(inputs=inputs, outputs=output)\n",
        "model.compile(optimizer='adam', loss='binary_crossentropy', metrics=METRICS)\n",
        "\n",
        "# Callbacks\n",
        "checkpoint = ModelCheckpoint(filepath='best_weights.hdf5', save_best_only=True, save_weights_only=True)\n",
        "lr_reduce = ReduceLROnPlateau(monitor='val_loss', factor=0.3, patience=2, verbose=2, mode='max')\n",
        "early_stop = EarlyStopping(monitor='val_loss', min_delta=0.1, patience=1, mode='min')"
      ],
      "metadata": {
        "id": "B4-SiT9OMpJO"
      },
      "execution_count": null,
      "outputs": []
    },
    {
      "cell_type": "markdown",
      "source": [
        "\n",
        "#Train the model\n",
        "\n"
      ],
      "metadata": {
        "id": "1w6kllchKQB_"
      }
    },
    {
      "cell_type": "code",
      "source": [
        "history = model.fit(\n",
        "    x_train,\n",
        "    epochs=100,\n",
        "    #validation_data=x_test,\n",
        "    #class_weight=class_weight,\n",
        "    callbacks=[checkpoint, early_stop],\n",
        ")"
      ],
      "metadata": {
        "colab": {
          "base_uri": "https://localhost:8080/"
        },
        "id": "8ZSSQ4THNRU6",
        "outputId": "ced8d3b8-41c3-4629-d081-c6899ea10137"
      },
      "execution_count": null,
      "outputs": [
        {
          "metadata": {
            "tags": null
          },
          "name": "stdout",
          "output_type": "stream",
          "text": [
            "Epoch 1/100\n",
            "147/147 [==============================] - ETA: 0s - loss: 0.3577 - binary_accuracy: 0.8491 - precision: 0.7907 - recall: 0.7442"
          ]
        },
        {
          "metadata": {
            "tags": null
          },
          "name": "stderr",
          "output_type": "stream",
          "text": [
            "WARNING:tensorflow:Can save best model only with val_loss available, skipping.\n",
            "WARNING:tensorflow:Early stopping conditioned on metric `val_loss` which is not available. Available metrics are: loss,binary_accuracy,precision,recall\n"
          ]
        },
        {
          "metadata": {
            "tags": null
          },
          "name": "stdout",
          "output_type": "stream",
          "text": [
            "147/147 [==============================] - 86s 587ms/step - loss: 0.3577 - binary_accuracy: 0.8491 - precision: 0.7907 - recall: 0.7442\n",
            "Epoch 2/100\n",
            "147/147 [==============================] - ETA: 0s - loss: 0.3547 - binary_accuracy: 0.8508 - precision: 0.7933 - recall: 0.7472"
          ]
        },
        {
          "metadata": {
            "tags": null
          },
          "name": "stderr",
          "output_type": "stream",
          "text": [
            "WARNING:tensorflow:Can save best model only with val_loss available, skipping.\n",
            "WARNING:tensorflow:Early stopping conditioned on metric `val_loss` which is not available. Available metrics are: loss,binary_accuracy,precision,recall\n"
          ]
        },
        {
          "metadata": {
            "tags": null
          },
          "name": "stdout",
          "output_type": "stream",
          "text": [
            "147/147 [==============================] - 73s 499ms/step - loss: 0.3547 - binary_accuracy: 0.8508 - precision: 0.7933 - recall: 0.7472\n",
            "Epoch 3/100\n",
            "147/147 [==============================] - ETA: 0s - loss: 0.3609 - binary_accuracy: 0.8442 - precision: 0.7832 - recall: 0.7363"
          ]
        },
        {
          "metadata": {
            "tags": null
          },
          "name": "stderr",
          "output_type": "stream",
          "text": [
            "WARNING:tensorflow:Can save best model only with val_loss available, skipping.\n",
            "WARNING:tensorflow:Early stopping conditioned on metric `val_loss` which is not available. Available metrics are: loss,binary_accuracy,precision,recall\n"
          ]
        },
        {
          "metadata": {
            "tags": null
          },
          "name": "stdout",
          "output_type": "stream",
          "text": [
            "147/147 [==============================] - 77s 522ms/step - loss: 0.3609 - binary_accuracy: 0.8442 - precision: 0.7832 - recall: 0.7363\n",
            "Epoch 4/100\n",
            "147/147 [==============================] - ETA: 0s - loss: 0.3601 - binary_accuracy: 0.8486 - precision: 0.7940 - recall: 0.7372"
          ]
        },
        {
          "metadata": {
            "tags": null
          },
          "name": "stderr",
          "output_type": "stream",
          "text": [
            "WARNING:tensorflow:Can save best model only with val_loss available, skipping.\n",
            "WARNING:tensorflow:Early stopping conditioned on metric `val_loss` which is not available. Available metrics are: loss,binary_accuracy,precision,recall\n"
          ]
        },
        {
          "metadata": {
            "tags": null
          },
          "name": "stdout",
          "output_type": "stream",
          "text": [
            "147/147 [==============================] - 74s 503ms/step - loss: 0.3601 - binary_accuracy: 0.8486 - precision: 0.7940 - recall: 0.7372\n",
            "Epoch 5/100\n",
            "147/147 [==============================] - ETA: 0s - loss: 0.3588 - binary_accuracy: 0.8491 - precision: 0.7914 - recall: 0.7434"
          ]
        },
        {
          "metadata": {
            "tags": null
          },
          "name": "stderr",
          "output_type": "stream",
          "text": [
            "WARNING:tensorflow:Can save best model only with val_loss available, skipping.\n",
            "WARNING:tensorflow:Early stopping conditioned on metric `val_loss` which is not available. Available metrics are: loss,binary_accuracy,precision,recall\n"
          ]
        },
        {
          "metadata": {
            "tags": null
          },
          "name": "stdout",
          "output_type": "stream",
          "text": [
            "147/147 [==============================] - 73s 495ms/step - loss: 0.3588 - binary_accuracy: 0.8491 - precision: 0.7914 - recall: 0.7434\n",
            "Epoch 6/100\n",
            "147/147 [==============================] - ETA: 0s - loss: 0.3515 - binary_accuracy: 0.8510 - precision: 0.7953 - recall: 0.7447"
          ]
        },
        {
          "metadata": {
            "tags": null
          },
          "name": "stderr",
          "output_type": "stream",
          "text": [
            "WARNING:tensorflow:Can save best model only with val_loss available, skipping.\n",
            "WARNING:tensorflow:Early stopping conditioned on metric `val_loss` which is not available. Available metrics are: loss,binary_accuracy,precision,recall\n"
          ]
        },
        {
          "metadata": {
            "tags": null
          },
          "name": "stdout",
          "output_type": "stream",
          "text": [
            "147/147 [==============================] - 72s 492ms/step - loss: 0.3515 - binary_accuracy: 0.8510 - precision: 0.7953 - recall: 0.7447\n",
            "Epoch 7/100\n",
            "147/147 [==============================] - ETA: 0s - loss: 0.3498 - binary_accuracy: 0.8530 - precision: 0.7980 - recall: 0.7487"
          ]
        },
        {
          "metadata": {
            "tags": null
          },
          "name": "stderr",
          "output_type": "stream",
          "text": [
            "WARNING:tensorflow:Can save best model only with val_loss available, skipping.\n",
            "WARNING:tensorflow:Early stopping conditioned on metric `val_loss` which is not available. Available metrics are: loss,binary_accuracy,precision,recall\n"
          ]
        },
        {
          "metadata": {
            "tags": null
          },
          "name": "stdout",
          "output_type": "stream",
          "text": [
            "147/147 [==============================] - 75s 512ms/step - loss: 0.3498 - binary_accuracy: 0.8530 - precision: 0.7980 - recall: 0.7487\n",
            "Epoch 8/100\n",
            "147/147 [==============================] - ETA: 0s - loss: 0.3468 - binary_accuracy: 0.8546 - precision: 0.8013 - recall: 0.7498"
          ]
        },
        {
          "metadata": {
            "tags": null
          },
          "name": "stderr",
          "output_type": "stream",
          "text": [
            "WARNING:tensorflow:Can save best model only with val_loss available, skipping.\n",
            "WARNING:tensorflow:Early stopping conditioned on metric `val_loss` which is not available. Available metrics are: loss,binary_accuracy,precision,recall\n"
          ]
        },
        {
          "metadata": {
            "tags": null
          },
          "name": "stdout",
          "output_type": "stream",
          "text": [
            "147/147 [==============================] - 72s 493ms/step - loss: 0.3468 - binary_accuracy: 0.8546 - precision: 0.8013 - recall: 0.7498\n",
            "Epoch 9/100\n",
            "147/147 [==============================] - ETA: 0s - loss: 0.3526 - binary_accuracy: 0.8545 - precision: 0.8013 - recall: 0.7491"
          ]
        },
        {
          "metadata": {
            "tags": null
          },
          "name": "stderr",
          "output_type": "stream",
          "text": [
            "WARNING:tensorflow:Can save best model only with val_loss available, skipping.\n",
            "WARNING:tensorflow:Early stopping conditioned on metric `val_loss` which is not available. Available metrics are: loss,binary_accuracy,precision,recall\n"
          ]
        },
        {
          "metadata": {
            "tags": null
          },
          "name": "stdout",
          "output_type": "stream",
          "text": [
            "147/147 [==============================] - 73s 493ms/step - loss: 0.3526 - binary_accuracy: 0.8545 - precision: 0.8013 - recall: 0.7491\n",
            "Epoch 10/100\n",
            "147/147 [==============================] - ETA: 0s - loss: 0.3433 - binary_accuracy: 0.8535 - precision: 0.7981 - recall: 0.7504"
          ]
        },
        {
          "metadata": {
            "tags": null
          },
          "name": "stderr",
          "output_type": "stream",
          "text": [
            "WARNING:tensorflow:Can save best model only with val_loss available, skipping.\n",
            "WARNING:tensorflow:Early stopping conditioned on metric `val_loss` which is not available. Available metrics are: loss,binary_accuracy,precision,recall\n"
          ]
        },
        {
          "metadata": {
            "tags": null
          },
          "name": "stdout",
          "output_type": "stream",
          "text": [
            "147/147 [==============================] - 74s 506ms/step - loss: 0.3433 - binary_accuracy: 0.8535 - precision: 0.7981 - recall: 0.7504\n",
            "Epoch 11/100\n",
            "147/147 [==============================] - ETA: 0s - loss: 0.3487 - binary_accuracy: 0.8501 - precision: 0.7953 - recall: 0.7408"
          ]
        },
        {
          "metadata": {
            "tags": null
          },
          "name": "stderr",
          "output_type": "stream",
          "text": [
            "WARNING:tensorflow:Can save best model only with val_loss available, skipping.\n",
            "WARNING:tensorflow:Early stopping conditioned on metric `val_loss` which is not available. Available metrics are: loss,binary_accuracy,precision,recall\n"
          ]
        },
        {
          "metadata": {
            "tags": null
          },
          "name": "stdout",
          "output_type": "stream",
          "text": [
            "147/147 [==============================] - 73s 493ms/step - loss: 0.3487 - binary_accuracy: 0.8501 - precision: 0.7953 - recall: 0.7408\n",
            "Epoch 12/100\n",
            "147/147 [==============================] - ETA: 0s - loss: 0.3500 - binary_accuracy: 0.8522 - precision: 0.7981 - recall: 0.7451"
          ]
        },
        {
          "metadata": {
            "tags": null
          },
          "name": "stderr",
          "output_type": "stream",
          "text": [
            "WARNING:tensorflow:Can save best model only with val_loss available, skipping.\n",
            "WARNING:tensorflow:Early stopping conditioned on metric `val_loss` which is not available. Available metrics are: loss,binary_accuracy,precision,recall\n"
          ]
        },
        {
          "metadata": {
            "tags": null
          },
          "name": "stdout",
          "output_type": "stream",
          "text": [
            "147/147 [==============================] - 74s 500ms/step - loss: 0.3500 - binary_accuracy: 0.8522 - precision: 0.7981 - recall: 0.7451\n",
            "Epoch 13/100\n",
            "147/147 [==============================] - ETA: 0s - loss: 0.3500 - binary_accuracy: 0.8536 - precision: 0.7990 - recall: 0.7494"
          ]
        },
        {
          "metadata": {
            "tags": null
          },
          "name": "stderr",
          "output_type": "stream",
          "text": [
            "WARNING:tensorflow:Can save best model only with val_loss available, skipping.\n",
            "WARNING:tensorflow:Early stopping conditioned on metric `val_loss` which is not available. Available metrics are: loss,binary_accuracy,precision,recall\n"
          ]
        },
        {
          "metadata": {
            "tags": null
          },
          "name": "stdout",
          "output_type": "stream",
          "text": [
            "147/147 [==============================] - 74s 504ms/step - loss: 0.3500 - binary_accuracy: 0.8536 - precision: 0.7990 - recall: 0.7494\n",
            "Epoch 14/100\n",
            "147/147 [==============================] - ETA: 0s - loss: 0.3460 - binary_accuracy: 0.8572 - precision: 0.8028 - recall: 0.7577"
          ]
        },
        {
          "metadata": {
            "tags": null
          },
          "name": "stderr",
          "output_type": "stream",
          "text": [
            "WARNING:tensorflow:Can save best model only with val_loss available, skipping.\n",
            "WARNING:tensorflow:Early stopping conditioned on metric `val_loss` which is not available. Available metrics are: loss,binary_accuracy,precision,recall\n"
          ]
        },
        {
          "metadata": {
            "tags": null
          },
          "name": "stdout",
          "output_type": "stream",
          "text": [
            "147/147 [==============================] - 73s 494ms/step - loss: 0.3460 - binary_accuracy: 0.8572 - precision: 0.8028 - recall: 0.7577\n",
            "Epoch 15/100\n",
            "147/147 [==============================] - ETA: 0s - loss: 0.3444 - binary_accuracy: 0.8569 - precision: 0.8029 - recall: 0.7564"
          ]
        },
        {
          "metadata": {
            "tags": null
          },
          "name": "stderr",
          "output_type": "stream",
          "text": [
            "WARNING:tensorflow:Can save best model only with val_loss available, skipping.\n",
            "WARNING:tensorflow:Early stopping conditioned on metric `val_loss` which is not available. Available metrics are: loss,binary_accuracy,precision,recall\n"
          ]
        },
        {
          "metadata": {
            "tags": null
          },
          "name": "stdout",
          "output_type": "stream",
          "text": [
            "147/147 [==============================] - 73s 493ms/step - loss: 0.3444 - binary_accuracy: 0.8569 - precision: 0.8029 - recall: 0.7564\n",
            "Epoch 16/100\n",
            "147/147 [==============================] - ETA: 0s - loss: 0.3404 - binary_accuracy: 0.8591 - precision: 0.8056 - recall: 0.7609"
          ]
        },
        {
          "metadata": {
            "tags": null
          },
          "name": "stderr",
          "output_type": "stream",
          "text": [
            "WARNING:tensorflow:Can save best model only with val_loss available, skipping.\n",
            "WARNING:tensorflow:Early stopping conditioned on metric `val_loss` which is not available. Available metrics are: loss,binary_accuracy,precision,recall\n"
          ]
        },
        {
          "metadata": {
            "tags": null
          },
          "name": "stdout",
          "output_type": "stream",
          "text": [
            "147/147 [==============================] - 75s 510ms/step - loss: 0.3404 - binary_accuracy: 0.8591 - precision: 0.8056 - recall: 0.7609\n",
            "Epoch 17/100\n",
            "147/147 [==============================] - ETA: 0s - loss: 0.3363 - binary_accuracy: 0.8574 - precision: 0.8032 - recall: 0.7579"
          ]
        },
        {
          "metadata": {
            "tags": null
          },
          "name": "stderr",
          "output_type": "stream",
          "text": [
            "WARNING:tensorflow:Can save best model only with val_loss available, skipping.\n",
            "WARNING:tensorflow:Early stopping conditioned on metric `val_loss` which is not available. Available metrics are: loss,binary_accuracy,precision,recall\n"
          ]
        },
        {
          "metadata": {
            "tags": null
          },
          "name": "stdout",
          "output_type": "stream",
          "text": [
            "147/147 [==============================] - 73s 495ms/step - loss: 0.3363 - binary_accuracy: 0.8574 - precision: 0.8032 - recall: 0.7579\n",
            "Epoch 18/100\n",
            "147/147 [==============================] - ETA: 0s - loss: 0.3375 - binary_accuracy: 0.8623 - precision: 0.8122 - recall: 0.7635"
          ]
        },
        {
          "metadata": {
            "tags": null
          },
          "name": "stderr",
          "output_type": "stream",
          "text": [
            "WARNING:tensorflow:Can save best model only with val_loss available, skipping.\n",
            "WARNING:tensorflow:Early stopping conditioned on metric `val_loss` which is not available. Available metrics are: loss,binary_accuracy,precision,recall\n"
          ]
        },
        {
          "metadata": {
            "tags": null
          },
          "name": "stdout",
          "output_type": "stream",
          "text": [
            "147/147 [==============================] - 74s 505ms/step - loss: 0.3375 - binary_accuracy: 0.8623 - precision: 0.8122 - recall: 0.7635\n",
            "Epoch 19/100\n",
            "147/147 [==============================] - ETA: 0s - loss: 0.3371 - binary_accuracy: 0.8567 - precision: 0.8048 - recall: 0.7528"
          ]
        },
        {
          "metadata": {
            "tags": null
          },
          "name": "stderr",
          "output_type": "stream",
          "text": [
            "WARNING:tensorflow:Can save best model only with val_loss available, skipping.\n",
            "WARNING:tensorflow:Early stopping conditioned on metric `val_loss` which is not available. Available metrics are: loss,binary_accuracy,precision,recall\n"
          ]
        },
        {
          "metadata": {
            "tags": null
          },
          "name": "stdout",
          "output_type": "stream",
          "text": [
            "147/147 [==============================] - 75s 508ms/step - loss: 0.3371 - binary_accuracy: 0.8567 - precision: 0.8048 - recall: 0.7528\n",
            "Epoch 20/100\n",
            "147/147 [==============================] - ETA: 0s - loss: 0.3327 - binary_accuracy: 0.8606 - precision: 0.8082 - recall: 0.7628"
          ]
        },
        {
          "metadata": {
            "tags": null
          },
          "name": "stderr",
          "output_type": "stream",
          "text": [
            "WARNING:tensorflow:Can save best model only with val_loss available, skipping.\n",
            "WARNING:tensorflow:Early stopping conditioned on metric `val_loss` which is not available. Available metrics are: loss,binary_accuracy,precision,recall\n"
          ]
        },
        {
          "metadata": {
            "tags": null
          },
          "name": "stdout",
          "output_type": "stream",
          "text": [
            "147/147 [==============================] - 73s 496ms/step - loss: 0.3327 - binary_accuracy: 0.8606 - precision: 0.8082 - recall: 0.7628\n",
            "Epoch 21/100\n",
            "147/147 [==============================] - ETA: 0s - loss: 0.3332 - binary_accuracy: 0.8614 - precision: 0.8102 - recall: 0.7628"
          ]
        },
        {
          "metadata": {
            "tags": null
          },
          "name": "stderr",
          "output_type": "stream",
          "text": [
            "WARNING:tensorflow:Can save best model only with val_loss available, skipping.\n",
            "WARNING:tensorflow:Early stopping conditioned on metric `val_loss` which is not available. Available metrics are: loss,binary_accuracy,precision,recall\n"
          ]
        },
        {
          "metadata": {
            "tags": null
          },
          "name": "stdout",
          "output_type": "stream",
          "text": [
            "147/147 [==============================] - 73s 494ms/step - loss: 0.3332 - binary_accuracy: 0.8614 - precision: 0.8102 - recall: 0.7628\n",
            "Epoch 22/100\n",
            "147/147 [==============================] - ETA: 0s - loss: 0.3309 - binary_accuracy: 0.8609 - precision: 0.8093 - recall: 0.7622"
          ]
        },
        {
          "metadata": {
            "tags": null
          },
          "name": "stderr",
          "output_type": "stream",
          "text": [
            "WARNING:tensorflow:Can save best model only with val_loss available, skipping.\n",
            "WARNING:tensorflow:Early stopping conditioned on metric `val_loss` which is not available. Available metrics are: loss,binary_accuracy,precision,recall\n"
          ]
        },
        {
          "metadata": {
            "tags": null
          },
          "name": "stdout",
          "output_type": "stream",
          "text": [
            "147/147 [==============================] - 74s 503ms/step - loss: 0.3309 - binary_accuracy: 0.8609 - precision: 0.8093 - recall: 0.7622\n",
            "Epoch 23/100\n",
            "147/147 [==============================] - ETA: 0s - loss: 0.3383 - binary_accuracy: 0.8586 - precision: 0.8072 - recall: 0.7564"
          ]
        },
        {
          "metadata": {
            "tags": null
          },
          "name": "stderr",
          "output_type": "stream",
          "text": [
            "WARNING:tensorflow:Can save best model only with val_loss available, skipping.\n",
            "WARNING:tensorflow:Early stopping conditioned on metric `val_loss` which is not available. Available metrics are: loss,binary_accuracy,precision,recall\n"
          ]
        },
        {
          "metadata": {
            "tags": null
          },
          "name": "stdout",
          "output_type": "stream",
          "text": [
            "147/147 [==============================] - 74s 500ms/step - loss: 0.3383 - binary_accuracy: 0.8586 - precision: 0.8072 - recall: 0.7564\n",
            "Epoch 24/100\n",
            "147/147 [==============================] - ETA: 0s - loss: 0.3355 - binary_accuracy: 0.8609 - precision: 0.8087 - recall: 0.7635"
          ]
        },
        {
          "metadata": {
            "tags": null
          },
          "name": "stderr",
          "output_type": "stream",
          "text": [
            "WARNING:tensorflow:Can save best model only with val_loss available, skipping.\n",
            "WARNING:tensorflow:Early stopping conditioned on metric `val_loss` which is not available. Available metrics are: loss,binary_accuracy,precision,recall\n"
          ]
        },
        {
          "metadata": {
            "tags": null
          },
          "name": "stdout",
          "output_type": "stream",
          "text": [
            "147/147 [==============================] - 73s 493ms/step - loss: 0.3355 - binary_accuracy: 0.8609 - precision: 0.8087 - recall: 0.7635\n",
            "Epoch 25/100\n",
            "147/147 [==============================] - ETA: 0s - loss: 0.3284 - binary_accuracy: 0.8627 - precision: 0.8117 - recall: 0.7656"
          ]
        },
        {
          "metadata": {
            "tags": null
          },
          "name": "stderr",
          "output_type": "stream",
          "text": [
            "WARNING:tensorflow:Can save best model only with val_loss available, skipping.\n",
            "WARNING:tensorflow:Early stopping conditioned on metric `val_loss` which is not available. Available metrics are: loss,binary_accuracy,precision,recall\n"
          ]
        },
        {
          "metadata": {
            "tags": null
          },
          "name": "stdout",
          "output_type": "stream",
          "text": [
            "147/147 [==============================] - 74s 504ms/step - loss: 0.3284 - binary_accuracy: 0.8627 - precision: 0.8117 - recall: 0.7656\n",
            "Epoch 26/100\n",
            "147/147 [==============================] - ETA: 0s - loss: 0.3356 - binary_accuracy: 0.8554 - precision: 0.8051 - recall: 0.7470"
          ]
        },
        {
          "metadata": {
            "tags": null
          },
          "name": "stderr",
          "output_type": "stream",
          "text": [
            "WARNING:tensorflow:Can save best model only with val_loss available, skipping.\n",
            "WARNING:tensorflow:Early stopping conditioned on metric `val_loss` which is not available. Available metrics are: loss,binary_accuracy,precision,recall\n"
          ]
        },
        {
          "metadata": {
            "tags": null
          },
          "name": "stdout",
          "output_type": "stream",
          "text": [
            "147/147 [==============================] - 72s 492ms/step - loss: 0.3356 - binary_accuracy: 0.8554 - precision: 0.8051 - recall: 0.7470\n",
            "Epoch 27/100\n",
            "147/147 [==============================] - ETA: 0s - loss: 0.3342 - binary_accuracy: 0.8606 - precision: 0.8104 - recall: 0.7594"
          ]
        },
        {
          "metadata": {
            "tags": null
          },
          "name": "stderr",
          "output_type": "stream",
          "text": [
            "WARNING:tensorflow:Can save best model only with val_loss available, skipping.\n",
            "WARNING:tensorflow:Early stopping conditioned on metric `val_loss` which is not available. Available metrics are: loss,binary_accuracy,precision,recall\n"
          ]
        },
        {
          "metadata": {
            "tags": null
          },
          "name": "stdout",
          "output_type": "stream",
          "text": [
            "147/147 [==============================] - 73s 496ms/step - loss: 0.3342 - binary_accuracy: 0.8606 - precision: 0.8104 - recall: 0.7594\n",
            "Epoch 28/100\n",
            "147/147 [==============================] - ETA: 0s - loss: 0.3315 - binary_accuracy: 0.8660 - precision: 0.8204 - recall: 0.7656"
          ]
        },
        {
          "metadata": {
            "tags": null
          },
          "name": "stderr",
          "output_type": "stream",
          "text": [
            "WARNING:tensorflow:Can save best model only with val_loss available, skipping.\n",
            "WARNING:tensorflow:Early stopping conditioned on metric `val_loss` which is not available. Available metrics are: loss,binary_accuracy,precision,recall\n"
          ]
        },
        {
          "metadata": {
            "tags": null
          },
          "name": "stdout",
          "output_type": "stream",
          "text": [
            "147/147 [==============================] - 72s 487ms/step - loss: 0.3315 - binary_accuracy: 0.8660 - precision: 0.8204 - recall: 0.7656\n",
            "Epoch 29/100\n",
            "147/147 [==============================] - ETA: 0s - loss: 0.3244 - binary_accuracy: 0.8648 - precision: 0.8171 - recall: 0.7658"
          ]
        },
        {
          "metadata": {
            "tags": null
          },
          "name": "stderr",
          "output_type": "stream",
          "text": [
            "WARNING:tensorflow:Can save best model only with val_loss available, skipping.\n",
            "WARNING:tensorflow:Early stopping conditioned on metric `val_loss` which is not available. Available metrics are: loss,binary_accuracy,precision,recall\n"
          ]
        },
        {
          "metadata": {
            "tags": null
          },
          "name": "stdout",
          "output_type": "stream",
          "text": [
            "147/147 [==============================] - 71s 483ms/step - loss: 0.3244 - binary_accuracy: 0.8648 - precision: 0.8171 - recall: 0.7658\n",
            "Epoch 30/100\n",
            "147/147 [==============================] - ETA: 0s - loss: 0.3234 - binary_accuracy: 0.8649 - precision: 0.8137 - recall: 0.7713"
          ]
        },
        {
          "metadata": {
            "tags": null
          },
          "name": "stderr",
          "output_type": "stream",
          "text": [
            "WARNING:tensorflow:Can save best model only with val_loss available, skipping.\n",
            "WARNING:tensorflow:Early stopping conditioned on metric `val_loss` which is not available. Available metrics are: loss,binary_accuracy,precision,recall\n"
          ]
        },
        {
          "metadata": {
            "tags": null
          },
          "name": "stdout",
          "output_type": "stream",
          "text": [
            "147/147 [==============================] - 70s 474ms/step - loss: 0.3234 - binary_accuracy: 0.8649 - precision: 0.8137 - recall: 0.7713\n",
            "Epoch 31/100\n",
            "147/147 [==============================] - ETA: 0s - loss: 0.3275 - binary_accuracy: 0.8639 - precision: 0.8141 - recall: 0.7667"
          ]
        },
        {
          "metadata": {
            "tags": null
          },
          "name": "stderr",
          "output_type": "stream",
          "text": [
            "WARNING:tensorflow:Can save best model only with val_loss available, skipping.\n",
            "WARNING:tensorflow:Early stopping conditioned on metric `val_loss` which is not available. Available metrics are: loss,binary_accuracy,precision,recall\n"
          ]
        },
        {
          "metadata": {
            "tags": null
          },
          "name": "stdout",
          "output_type": "stream",
          "text": [
            "147/147 [==============================] - 71s 485ms/step - loss: 0.3275 - binary_accuracy: 0.8639 - precision: 0.8141 - recall: 0.7667\n",
            "Epoch 32/100\n",
            "147/147 [==============================] - ETA: 0s - loss: 0.3324 - binary_accuracy: 0.8643 - precision: 0.8164 - recall: 0.7649"
          ]
        },
        {
          "metadata": {
            "tags": null
          },
          "name": "stderr",
          "output_type": "stream",
          "text": [
            "WARNING:tensorflow:Can save best model only with val_loss available, skipping.\n",
            "WARNING:tensorflow:Early stopping conditioned on metric `val_loss` which is not available. Available metrics are: loss,binary_accuracy,precision,recall\n"
          ]
        },
        {
          "metadata": {
            "tags": null
          },
          "name": "stdout",
          "output_type": "stream",
          "text": [
            "147/147 [==============================] - 71s 481ms/step - loss: 0.3324 - binary_accuracy: 0.8643 - precision: 0.8164 - recall: 0.7649\n",
            "Epoch 33/100\n",
            "147/147 [==============================] - ETA: 0s - loss: 0.3255 - binary_accuracy: 0.8651 - precision: 0.8150 - recall: 0.7701"
          ]
        },
        {
          "metadata": {
            "tags": null
          },
          "name": "stderr",
          "output_type": "stream",
          "text": [
            "WARNING:tensorflow:Can save best model only with val_loss available, skipping.\n",
            "WARNING:tensorflow:Early stopping conditioned on metric `val_loss` which is not available. Available metrics are: loss,binary_accuracy,precision,recall\n"
          ]
        },
        {
          "metadata": {
            "tags": null
          },
          "name": "stdout",
          "output_type": "stream",
          "text": [
            "147/147 [==============================] - 69s 472ms/step - loss: 0.3255 - binary_accuracy: 0.8651 - precision: 0.8150 - recall: 0.7701\n",
            "Epoch 34/100\n",
            "147/147 [==============================] - ETA: 0s - loss: 0.3283 - binary_accuracy: 0.8657 - precision: 0.8156 - recall: 0.7716"
          ]
        },
        {
          "metadata": {
            "tags": null
          },
          "name": "stderr",
          "output_type": "stream",
          "text": [
            "WARNING:tensorflow:Can save best model only with val_loss available, skipping.\n",
            "WARNING:tensorflow:Early stopping conditioned on metric `val_loss` which is not available. Available metrics are: loss,binary_accuracy,precision,recall\n"
          ]
        },
        {
          "metadata": {
            "tags": null
          },
          "name": "stdout",
          "output_type": "stream",
          "text": [
            "147/147 [==============================] - 71s 485ms/step - loss: 0.3283 - binary_accuracy: 0.8657 - precision: 0.8156 - recall: 0.7716\n",
            "Epoch 35/100\n",
            "147/147 [==============================] - ETA: 0s - loss: 0.3215 - binary_accuracy: 0.8634 - precision: 0.8102 - recall: 0.7709"
          ]
        },
        {
          "metadata": {
            "tags": null
          },
          "name": "stderr",
          "output_type": "stream",
          "text": [
            "WARNING:tensorflow:Can save best model only with val_loss available, skipping.\n",
            "WARNING:tensorflow:Early stopping conditioned on metric `val_loss` which is not available. Available metrics are: loss,binary_accuracy,precision,recall\n"
          ]
        },
        {
          "metadata": {
            "tags": null
          },
          "name": "stdout",
          "output_type": "stream",
          "text": [
            "147/147 [==============================] - 71s 479ms/step - loss: 0.3215 - binary_accuracy: 0.8634 - precision: 0.8102 - recall: 0.7709\n",
            "Epoch 36/100\n",
            "147/147 [==============================] - ETA: 0s - loss: 0.3257 - binary_accuracy: 0.8637 - precision: 0.8108 - recall: 0.7711"
          ]
        },
        {
          "metadata": {
            "tags": null
          },
          "name": "stderr",
          "output_type": "stream",
          "text": [
            "WARNING:tensorflow:Can save best model only with val_loss available, skipping.\n",
            "WARNING:tensorflow:Early stopping conditioned on metric `val_loss` which is not available. Available metrics are: loss,binary_accuracy,precision,recall\n"
          ]
        },
        {
          "metadata": {
            "tags": null
          },
          "name": "stdout",
          "output_type": "stream",
          "text": [
            "147/147 [==============================] - 70s 473ms/step - loss: 0.3257 - binary_accuracy: 0.8637 - precision: 0.8108 - recall: 0.7711\n",
            "Epoch 37/100\n",
            "147/147 [==============================] - ETA: 0s - loss: 0.3192 - binary_accuracy: 0.8689 - precision: 0.8209 - recall: 0.7760"
          ]
        },
        {
          "metadata": {
            "tags": null
          },
          "name": "stderr",
          "output_type": "stream",
          "text": [
            "WARNING:tensorflow:Can save best model only with val_loss available, skipping.\n",
            "WARNING:tensorflow:Early stopping conditioned on metric `val_loss` which is not available. Available metrics are: loss,binary_accuracy,precision,recall\n"
          ]
        },
        {
          "metadata": {
            "tags": null
          },
          "name": "stdout",
          "output_type": "stream",
          "text": [
            "147/147 [==============================] - 72s 487ms/step - loss: 0.3192 - binary_accuracy: 0.8689 - precision: 0.8209 - recall: 0.7760\n",
            "Epoch 38/100\n",
            "147/147 [==============================] - ETA: 0s - loss: 0.3282 - binary_accuracy: 0.8663 - precision: 0.8180 - recall: 0.7703"
          ]
        },
        {
          "metadata": {
            "tags": null
          },
          "name": "stderr",
          "output_type": "stream",
          "text": [
            "WARNING:tensorflow:Can save best model only with val_loss available, skipping.\n",
            "WARNING:tensorflow:Early stopping conditioned on metric `val_loss` which is not available. Available metrics are: loss,binary_accuracy,precision,recall\n"
          ]
        },
        {
          "metadata": {
            "tags": null
          },
          "name": "stdout",
          "output_type": "stream",
          "text": [
            "147/147 [==============================] - 70s 474ms/step - loss: 0.3282 - binary_accuracy: 0.8663 - precision: 0.8180 - recall: 0.7703\n",
            "Epoch 39/100\n",
            "147/147 [==============================] - ETA: 0s - loss: 0.3292 - binary_accuracy: 0.8614 - precision: 0.8117 - recall: 0.7609"
          ]
        },
        {
          "metadata": {
            "tags": null
          },
          "name": "stderr",
          "output_type": "stream",
          "text": [
            "WARNING:tensorflow:Can save best model only with val_loss available, skipping.\n",
            "WARNING:tensorflow:Early stopping conditioned on metric `val_loss` which is not available. Available metrics are: loss,binary_accuracy,precision,recall\n"
          ]
        },
        {
          "metadata": {
            "tags": null
          },
          "name": "stdout",
          "output_type": "stream",
          "text": [
            "147/147 [==============================] - 69s 473ms/step - loss: 0.3292 - binary_accuracy: 0.8614 - precision: 0.8117 - recall: 0.7609\n",
            "Epoch 40/100\n",
            "147/147 [==============================] - ETA: 0s - loss: 0.3170 - binary_accuracy: 0.8684 - precision: 0.8198 - recall: 0.7758"
          ]
        },
        {
          "metadata": {
            "tags": null
          },
          "name": "stderr",
          "output_type": "stream",
          "text": [
            "WARNING:tensorflow:Can save best model only with val_loss available, skipping.\n",
            "WARNING:tensorflow:Early stopping conditioned on metric `val_loss` which is not available. Available metrics are: loss,binary_accuracy,precision,recall\n"
          ]
        },
        {
          "metadata": {
            "tags": null
          },
          "name": "stdout",
          "output_type": "stream",
          "text": [
            "147/147 [==============================] - 72s 488ms/step - loss: 0.3170 - binary_accuracy: 0.8684 - precision: 0.8198 - recall: 0.7758\n",
            "Epoch 41/100\n",
            "147/147 [==============================] - ETA: 0s - loss: 0.3192 - binary_accuracy: 0.8680 - precision: 0.8189 - recall: 0.7754"
          ]
        },
        {
          "metadata": {
            "tags": null
          },
          "name": "stderr",
          "output_type": "stream",
          "text": [
            "WARNING:tensorflow:Can save best model only with val_loss available, skipping.\n",
            "WARNING:tensorflow:Early stopping conditioned on metric `val_loss` which is not available. Available metrics are: loss,binary_accuracy,precision,recall\n"
          ]
        },
        {
          "metadata": {
            "tags": null
          },
          "name": "stdout",
          "output_type": "stream",
          "text": [
            "147/147 [==============================] - 70s 477ms/step - loss: 0.3192 - binary_accuracy: 0.8680 - precision: 0.8189 - recall: 0.7754\n",
            "Epoch 42/100\n",
            "147/147 [==============================] - ETA: 0s - loss: 0.3221 - binary_accuracy: 0.8669 - precision: 0.8173 - recall: 0.7737"
          ]
        },
        {
          "metadata": {
            "tags": null
          },
          "name": "stderr",
          "output_type": "stream",
          "text": [
            "WARNING:tensorflow:Can save best model only with val_loss available, skipping.\n",
            "WARNING:tensorflow:Early stopping conditioned on metric `val_loss` which is not available. Available metrics are: loss,binary_accuracy,precision,recall\n"
          ]
        },
        {
          "metadata": {
            "tags": null
          },
          "name": "stdout",
          "output_type": "stream",
          "text": [
            "147/147 [==============================] - 71s 483ms/step - loss: 0.3221 - binary_accuracy: 0.8669 - precision: 0.8173 - recall: 0.7737\n",
            "Epoch 43/100\n",
            "147/147 [==============================] - ETA: 0s - loss: 0.3143 - binary_accuracy: 0.8689 - precision: 0.8215 - recall: 0.7752"
          ]
        },
        {
          "metadata": {
            "tags": null
          },
          "name": "stderr",
          "output_type": "stream",
          "text": [
            "WARNING:tensorflow:Can save best model only with val_loss available, skipping.\n",
            "WARNING:tensorflow:Early stopping conditioned on metric `val_loss` which is not available. Available metrics are: loss,binary_accuracy,precision,recall\n"
          ]
        },
        {
          "metadata": {
            "tags": null
          },
          "name": "stdout",
          "output_type": "stream",
          "text": [
            "147/147 [==============================] - 71s 480ms/step - loss: 0.3143 - binary_accuracy: 0.8689 - precision: 0.8215 - recall: 0.7752\n",
            "Epoch 44/100\n",
            "147/147 [==============================] - ETA: 0s - loss: 0.3176 - binary_accuracy: 0.8644 - precision: 0.8116 - recall: 0.7724"
          ]
        },
        {
          "metadata": {
            "tags": null
          },
          "name": "stderr",
          "output_type": "stream",
          "text": [
            "WARNING:tensorflow:Can save best model only with val_loss available, skipping.\n",
            "WARNING:tensorflow:Early stopping conditioned on metric `val_loss` which is not available. Available metrics are: loss,binary_accuracy,precision,recall\n"
          ]
        },
        {
          "metadata": {
            "tags": null
          },
          "name": "stdout",
          "output_type": "stream",
          "text": [
            "147/147 [==============================] - 69s 472ms/step - loss: 0.3176 - binary_accuracy: 0.8644 - precision: 0.8116 - recall: 0.7724\n",
            "Epoch 45/100\n",
            "147/147 [==============================] - ETA: 0s - loss: 0.3217 - binary_accuracy: 0.8668 - precision: 0.8195 - recall: 0.7699"
          ]
        },
        {
          "metadata": {
            "tags": null
          },
          "name": "stderr",
          "output_type": "stream",
          "text": [
            "WARNING:tensorflow:Can save best model only with val_loss available, skipping.\n",
            "WARNING:tensorflow:Early stopping conditioned on metric `val_loss` which is not available. Available metrics are: loss,binary_accuracy,precision,recall\n"
          ]
        },
        {
          "metadata": {
            "tags": null
          },
          "name": "stdout",
          "output_type": "stream",
          "text": [
            "147/147 [==============================] - 70s 475ms/step - loss: 0.3217 - binary_accuracy: 0.8668 - precision: 0.8195 - recall: 0.7699\n",
            "Epoch 46/100\n",
            "147/147 [==============================] - ETA: 0s - loss: 0.3188 - binary_accuracy: 0.8672 - precision: 0.8182 - recall: 0.7735"
          ]
        },
        {
          "metadata": {
            "tags": null
          },
          "name": "stderr",
          "output_type": "stream",
          "text": [
            "WARNING:tensorflow:Can save best model only with val_loss available, skipping.\n",
            "WARNING:tensorflow:Early stopping conditioned on metric `val_loss` which is not available. Available metrics are: loss,binary_accuracy,precision,recall\n"
          ]
        },
        {
          "metadata": {
            "tags": null
          },
          "name": "stdout",
          "output_type": "stream",
          "text": [
            "147/147 [==============================] - 71s 484ms/step - loss: 0.3188 - binary_accuracy: 0.8672 - precision: 0.8182 - recall: 0.7735\n",
            "Epoch 47/100\n",
            "147/147 [==============================] - ETA: 0s - loss: 0.3189 - binary_accuracy: 0.8689 - precision: 0.8219 - recall: 0.7746"
          ]
        },
        {
          "metadata": {
            "tags": null
          },
          "name": "stderr",
          "output_type": "stream",
          "text": [
            "WARNING:tensorflow:Can save best model only with val_loss available, skipping.\n",
            "WARNING:tensorflow:Early stopping conditioned on metric `val_loss` which is not available. Available metrics are: loss,binary_accuracy,precision,recall\n"
          ]
        },
        {
          "metadata": {
            "tags": null
          },
          "name": "stdout",
          "output_type": "stream",
          "text": [
            "147/147 [==============================] - 70s 476ms/step - loss: 0.3189 - binary_accuracy: 0.8689 - precision: 0.8219 - recall: 0.7746\n",
            "Epoch 48/100\n",
            "147/147 [==============================] - ETA: 0s - loss: 0.3255 - binary_accuracy: 0.8643 - precision: 0.8165 - recall: 0.7647"
          ]
        },
        {
          "metadata": {
            "tags": null
          },
          "name": "stderr",
          "output_type": "stream",
          "text": [
            "WARNING:tensorflow:Can save best model only with val_loss available, skipping.\n",
            "WARNING:tensorflow:Early stopping conditioned on metric `val_loss` which is not available. Available metrics are: loss,binary_accuracy,precision,recall\n"
          ]
        },
        {
          "metadata": {
            "tags": null
          },
          "name": "stdout",
          "output_type": "stream",
          "text": [
            "147/147 [==============================] - 70s 472ms/step - loss: 0.3255 - binary_accuracy: 0.8643 - precision: 0.8165 - recall: 0.7647\n",
            "Epoch 49/100\n",
            "147/147 [==============================] - ETA: 0s - loss: 0.3236 - binary_accuracy: 0.8638 - precision: 0.8162 - recall: 0.7632"
          ]
        },
        {
          "metadata": {
            "tags": null
          },
          "name": "stderr",
          "output_type": "stream",
          "text": [
            "WARNING:tensorflow:Can save best model only with val_loss available, skipping.\n",
            "WARNING:tensorflow:Early stopping conditioned on metric `val_loss` which is not available. Available metrics are: loss,binary_accuracy,precision,recall\n"
          ]
        },
        {
          "metadata": {
            "tags": null
          },
          "name": "stdout",
          "output_type": "stream",
          "text": [
            "147/147 [==============================] - 70s 479ms/step - loss: 0.3236 - binary_accuracy: 0.8638 - precision: 0.8162 - recall: 0.7632\n",
            "Epoch 50/100\n",
            "147/147 [==============================] - ETA: 0s - loss: 0.3232 - binary_accuracy: 0.8667 - precision: 0.8173 - recall: 0.7728"
          ]
        },
        {
          "metadata": {
            "tags": null
          },
          "name": "stderr",
          "output_type": "stream",
          "text": [
            "WARNING:tensorflow:Can save best model only with val_loss available, skipping.\n",
            "WARNING:tensorflow:Early stopping conditioned on metric `val_loss` which is not available. Available metrics are: loss,binary_accuracy,precision,recall\n"
          ]
        },
        {
          "metadata": {
            "tags": null
          },
          "name": "stdout",
          "output_type": "stream",
          "text": [
            "147/147 [==============================] - 71s 481ms/step - loss: 0.3232 - binary_accuracy: 0.8667 - precision: 0.8173 - recall: 0.7728\n",
            "Epoch 51/100\n",
            "147/147 [==============================] - ETA: 0s - loss: 0.3150 - binary_accuracy: 0.8671 - precision: 0.8205 - recall: 0.7699"
          ]
        },
        {
          "metadata": {
            "tags": null
          },
          "name": "stderr",
          "output_type": "stream",
          "text": [
            "WARNING:tensorflow:Can save best model only with val_loss available, skipping.\n",
            "WARNING:tensorflow:Early stopping conditioned on metric `val_loss` which is not available. Available metrics are: loss,binary_accuracy,precision,recall\n"
          ]
        },
        {
          "metadata": {
            "tags": null
          },
          "name": "stdout",
          "output_type": "stream",
          "text": [
            "147/147 [==============================] - 70s 474ms/step - loss: 0.3150 - binary_accuracy: 0.8671 - precision: 0.8205 - recall: 0.7699\n",
            "Epoch 52/100\n",
            "147/147 [==============================] - ETA: 0s - loss: 0.3135 - binary_accuracy: 0.8660 - precision: 0.8168 - recall: 0.7709"
          ]
        },
        {
          "metadata": {
            "tags": null
          },
          "name": "stderr",
          "output_type": "stream",
          "text": [
            "WARNING:tensorflow:Can save best model only with val_loss available, skipping.\n",
            "WARNING:tensorflow:Early stopping conditioned on metric `val_loss` which is not available. Available metrics are: loss,binary_accuracy,precision,recall\n"
          ]
        },
        {
          "metadata": {
            "tags": null
          },
          "name": "stdout",
          "output_type": "stream",
          "text": [
            "147/147 [==============================] - 70s 473ms/step - loss: 0.3135 - binary_accuracy: 0.8660 - precision: 0.8168 - recall: 0.7709\n",
            "Epoch 53/100\n",
            "147/147 [==============================] - ETA: 0s - loss: 0.3236 - binary_accuracy: 0.8655 - precision: 0.8171 - recall: 0.7686"
          ]
        },
        {
          "metadata": {
            "tags": null
          },
          "name": "stderr",
          "output_type": "stream",
          "text": [
            "WARNING:tensorflow:Can save best model only with val_loss available, skipping.\n",
            "WARNING:tensorflow:Early stopping conditioned on metric `val_loss` which is not available. Available metrics are: loss,binary_accuracy,precision,recall\n"
          ]
        },
        {
          "metadata": {
            "tags": null
          },
          "name": "stdout",
          "output_type": "stream",
          "text": [
            "147/147 [==============================] - 72s 488ms/step - loss: 0.3236 - binary_accuracy: 0.8655 - precision: 0.8171 - recall: 0.7686\n",
            "Epoch 54/100\n",
            "147/147 [==============================] - ETA: 0s - loss: 0.3111 - binary_accuracy: 0.8702 - precision: 0.8229 - recall: 0.7780"
          ]
        },
        {
          "metadata": {
            "tags": null
          },
          "name": "stderr",
          "output_type": "stream",
          "text": [
            "WARNING:tensorflow:Can save best model only with val_loss available, skipping.\n",
            "WARNING:tensorflow:Early stopping conditioned on metric `val_loss` which is not available. Available metrics are: loss,binary_accuracy,precision,recall\n"
          ]
        },
        {
          "metadata": {
            "tags": null
          },
          "name": "stdout",
          "output_type": "stream",
          "text": [
            "147/147 [==============================] - 70s 474ms/step - loss: 0.3111 - binary_accuracy: 0.8702 - precision: 0.8229 - recall: 0.7780\n",
            "Epoch 55/100\n",
            "147/147 [==============================] - ETA: 0s - loss: 0.3114 - binary_accuracy: 0.8728 - precision: 0.8287 - recall: 0.7797"
          ]
        },
        {
          "metadata": {
            "tags": null
          },
          "name": "stderr",
          "output_type": "stream",
          "text": [
            "WARNING:tensorflow:Can save best model only with val_loss available, skipping.\n",
            "WARNING:tensorflow:Early stopping conditioned on metric `val_loss` which is not available. Available metrics are: loss,binary_accuracy,precision,recall\n"
          ]
        },
        {
          "metadata": {
            "tags": null
          },
          "name": "stdout",
          "output_type": "stream",
          "text": [
            "147/147 [==============================] - 70s 477ms/step - loss: 0.3114 - binary_accuracy: 0.8728 - precision: 0.8287 - recall: 0.7797\n",
            "Epoch 56/100\n",
            "147/147 [==============================] - ETA: 0s - loss: 0.3174 - binary_accuracy: 0.8682 - precision: 0.8207 - recall: 0.7737"
          ]
        },
        {
          "metadata": {
            "tags": null
          },
          "name": "stderr",
          "output_type": "stream",
          "text": [
            "WARNING:tensorflow:Can save best model only with val_loss available, skipping.\n",
            "WARNING:tensorflow:Early stopping conditioned on metric `val_loss` which is not available. Available metrics are: loss,binary_accuracy,precision,recall\n"
          ]
        },
        {
          "metadata": {
            "tags": null
          },
          "name": "stdout",
          "output_type": "stream",
          "text": [
            "147/147 [==============================] - 71s 484ms/step - loss: 0.3174 - binary_accuracy: 0.8682 - precision: 0.8207 - recall: 0.7737\n",
            "Epoch 57/100\n",
            "147/147 [==============================] - ETA: 0s - loss: 0.3098 - binary_accuracy: 0.8689 - precision: 0.8205 - recall: 0.7767"
          ]
        },
        {
          "metadata": {
            "tags": null
          },
          "name": "stderr",
          "output_type": "stream",
          "text": [
            "WARNING:tensorflow:Can save best model only with val_loss available, skipping.\n",
            "WARNING:tensorflow:Early stopping conditioned on metric `val_loss` which is not available. Available metrics are: loss,binary_accuracy,precision,recall\n"
          ]
        },
        {
          "metadata": {
            "tags": null
          },
          "name": "stdout",
          "output_type": "stream",
          "text": [
            "147/147 [==============================] - 69s 473ms/step - loss: 0.3098 - binary_accuracy: 0.8689 - precision: 0.8205 - recall: 0.7767\n",
            "Epoch 58/100\n",
            "147/147 [==============================] - ETA: 0s - loss: 0.3066 - binary_accuracy: 0.8725 - precision: 0.8260 - recall: 0.7825"
          ]
        },
        {
          "metadata": {
            "tags": null
          },
          "name": "stderr",
          "output_type": "stream",
          "text": [
            "WARNING:tensorflow:Can save best model only with val_loss available, skipping.\n",
            "WARNING:tensorflow:Early stopping conditioned on metric `val_loss` which is not available. Available metrics are: loss,binary_accuracy,precision,recall\n"
          ]
        },
        {
          "metadata": {
            "tags": null
          },
          "name": "stdout",
          "output_type": "stream",
          "text": [
            "147/147 [==============================] - 71s 479ms/step - loss: 0.3066 - binary_accuracy: 0.8725 - precision: 0.8260 - recall: 0.7825\n",
            "Epoch 59/100\n",
            "147/147 [==============================] - ETA: 0s - loss: 0.3104 - binary_accuracy: 0.8703 - precision: 0.8243 - recall: 0.7765"
          ]
        },
        {
          "metadata": {
            "tags": null
          },
          "name": "stderr",
          "output_type": "stream",
          "text": [
            "WARNING:tensorflow:Can save best model only with val_loss available, skipping.\n",
            "WARNING:tensorflow:Early stopping conditioned on metric `val_loss` which is not available. Available metrics are: loss,binary_accuracy,precision,recall\n"
          ]
        },
        {
          "metadata": {
            "tags": null
          },
          "name": "stdout",
          "output_type": "stream",
          "text": [
            "147/147 [==============================] - 71s 481ms/step - loss: 0.3104 - binary_accuracy: 0.8703 - precision: 0.8243 - recall: 0.7765\n",
            "Epoch 60/100\n",
            "147/147 [==============================] - ETA: 0s - loss: 0.3081 - binary_accuracy: 0.8720 - precision: 0.8260 - recall: 0.7803"
          ]
        },
        {
          "metadata": {
            "tags": null
          },
          "name": "stderr",
          "output_type": "stream",
          "text": [
            "WARNING:tensorflow:Can save best model only with val_loss available, skipping.\n",
            "WARNING:tensorflow:Early stopping conditioned on metric `val_loss` which is not available. Available metrics are: loss,binary_accuracy,precision,recall\n"
          ]
        },
        {
          "metadata": {
            "tags": null
          },
          "name": "stdout",
          "output_type": "stream",
          "text": [
            "147/147 [==============================] - 69s 472ms/step - loss: 0.3081 - binary_accuracy: 0.8720 - precision: 0.8260 - recall: 0.7803\n",
            "Epoch 61/100\n",
            "147/147 [==============================] - ETA: 0s - loss: 0.3218 - binary_accuracy: 0.8656 - precision: 0.8170 - recall: 0.7690"
          ]
        },
        {
          "metadata": {
            "tags": null
          },
          "name": "stderr",
          "output_type": "stream",
          "text": [
            "WARNING:tensorflow:Can save best model only with val_loss available, skipping.\n",
            "WARNING:tensorflow:Early stopping conditioned on metric `val_loss` which is not available. Available metrics are: loss,binary_accuracy,precision,recall\n"
          ]
        },
        {
          "metadata": {
            "tags": null
          },
          "name": "stdout",
          "output_type": "stream",
          "text": [
            "147/147 [==============================] - 70s 476ms/step - loss: 0.3218 - binary_accuracy: 0.8656 - precision: 0.8170 - recall: 0.7690\n",
            "Epoch 62/100\n",
            "147/147 [==============================] - ETA: 0s - loss: 0.3109 - binary_accuracy: 0.8673 - precision: 0.8194 - recall: 0.7722"
          ]
        },
        {
          "metadata": {
            "tags": null
          },
          "name": "stderr",
          "output_type": "stream",
          "text": [
            "WARNING:tensorflow:Can save best model only with val_loss available, skipping.\n",
            "WARNING:tensorflow:Early stopping conditioned on metric `val_loss` which is not available. Available metrics are: loss,binary_accuracy,precision,recall\n"
          ]
        },
        {
          "metadata": {
            "tags": null
          },
          "name": "stdout",
          "output_type": "stream",
          "text": [
            "147/147 [==============================] - 71s 484ms/step - loss: 0.3109 - binary_accuracy: 0.8673 - precision: 0.8194 - recall: 0.7722\n",
            "Epoch 63/100\n",
            "147/147 [==============================] - ETA: 0s - loss: 0.3113 - binary_accuracy: 0.8700 - precision: 0.8252 - recall: 0.7739"
          ]
        },
        {
          "metadata": {
            "tags": null
          },
          "name": "stderr",
          "output_type": "stream",
          "text": [
            "WARNING:tensorflow:Can save best model only with val_loss available, skipping.\n",
            "WARNING:tensorflow:Early stopping conditioned on metric `val_loss` which is not available. Available metrics are: loss,binary_accuracy,precision,recall\n"
          ]
        },
        {
          "metadata": {
            "tags": null
          },
          "name": "stdout",
          "output_type": "stream",
          "text": [
            "147/147 [==============================] - 70s 473ms/step - loss: 0.3113 - binary_accuracy: 0.8700 - precision: 0.8252 - recall: 0.7739\n",
            "Epoch 64/100\n",
            "147/147 [==============================] - ETA: 0s - loss: 0.3147 - binary_accuracy: 0.8697 - precision: 0.8228 - recall: 0.7763"
          ]
        },
        {
          "metadata": {
            "tags": null
          },
          "name": "stderr",
          "output_type": "stream",
          "text": [
            "WARNING:tensorflow:Can save best model only with val_loss available, skipping.\n",
            "WARNING:tensorflow:Early stopping conditioned on metric `val_loss` which is not available. Available metrics are: loss,binary_accuracy,precision,recall\n"
          ]
        },
        {
          "metadata": {
            "tags": null
          },
          "name": "stdout",
          "output_type": "stream",
          "text": [
            "147/147 [==============================] - 70s 473ms/step - loss: 0.3147 - binary_accuracy: 0.8697 - precision: 0.8228 - recall: 0.7763\n",
            "Epoch 65/100\n",
            "147/147 [==============================] - ETA: 0s - loss: 0.3147 - binary_accuracy: 0.8717 - precision: 0.8247 - recall: 0.7812"
          ]
        },
        {
          "metadata": {
            "tags": null
          },
          "name": "stderr",
          "output_type": "stream",
          "text": [
            "WARNING:tensorflow:Can save best model only with val_loss available, skipping.\n",
            "WARNING:tensorflow:Early stopping conditioned on metric `val_loss` which is not available. Available metrics are: loss,binary_accuracy,precision,recall\n"
          ]
        },
        {
          "metadata": {
            "tags": null
          },
          "name": "stdout",
          "output_type": "stream",
          "text": [
            "147/147 [==============================] - 70s 479ms/step - loss: 0.3147 - binary_accuracy: 0.8717 - precision: 0.8247 - recall: 0.7812\n",
            "Epoch 66/100\n",
            "147/147 [==============================] - ETA: 0s - loss: 0.3137 - binary_accuracy: 0.8713 - precision: 0.8274 - recall: 0.7758"
          ]
        },
        {
          "metadata": {
            "tags": null
          },
          "name": "stderr",
          "output_type": "stream",
          "text": [
            "WARNING:tensorflow:Can save best model only with val_loss available, skipping.\n",
            "WARNING:tensorflow:Early stopping conditioned on metric `val_loss` which is not available. Available metrics are: loss,binary_accuracy,precision,recall\n"
          ]
        },
        {
          "metadata": {
            "tags": null
          },
          "name": "stdout",
          "output_type": "stream",
          "text": [
            "147/147 [==============================] - 70s 479ms/step - loss: 0.3137 - binary_accuracy: 0.8713 - precision: 0.8274 - recall: 0.7758\n",
            "Epoch 67/100\n",
            "147/147 [==============================] - ETA: 0s - loss: 0.3147 - binary_accuracy: 0.8654 - precision: 0.8157 - recall: 0.7703"
          ]
        },
        {
          "metadata": {
            "tags": null
          },
          "name": "stderr",
          "output_type": "stream",
          "text": [
            "WARNING:tensorflow:Can save best model only with val_loss available, skipping.\n",
            "WARNING:tensorflow:Early stopping conditioned on metric `val_loss` which is not available. Available metrics are: loss,binary_accuracy,precision,recall\n"
          ]
        },
        {
          "metadata": {
            "tags": null
          },
          "name": "stdout",
          "output_type": "stream",
          "text": [
            "147/147 [==============================] - 70s 474ms/step - loss: 0.3147 - binary_accuracy: 0.8654 - precision: 0.8157 - recall: 0.7703\n",
            "Epoch 68/100\n",
            "147/147 [==============================] - ETA: 0s - loss: 0.3058 - binary_accuracy: 0.8749 - precision: 0.8305 - recall: 0.7848"
          ]
        },
        {
          "metadata": {
            "tags": null
          },
          "name": "stderr",
          "output_type": "stream",
          "text": [
            "WARNING:tensorflow:Can save best model only with val_loss available, skipping.\n",
            "WARNING:tensorflow:Early stopping conditioned on metric `val_loss` which is not available. Available metrics are: loss,binary_accuracy,precision,recall\n"
          ]
        },
        {
          "metadata": {
            "tags": null
          },
          "name": "stdout",
          "output_type": "stream",
          "text": [
            "147/147 [==============================] - 71s 486ms/step - loss: 0.3058 - binary_accuracy: 0.8749 - precision: 0.8305 - recall: 0.7848\n",
            "Epoch 69/100\n",
            "147/147 [==============================] - ETA: 0s - loss: 0.3152 - binary_accuracy: 0.8707 - precision: 0.8262 - recall: 0.7752"
          ]
        },
        {
          "metadata": {
            "tags": null
          },
          "name": "stderr",
          "output_type": "stream",
          "text": [
            "WARNING:tensorflow:Can save best model only with val_loss available, skipping.\n",
            "WARNING:tensorflow:Early stopping conditioned on metric `val_loss` which is not available. Available metrics are: loss,binary_accuracy,precision,recall\n"
          ]
        },
        {
          "metadata": {
            "tags": null
          },
          "name": "stdout",
          "output_type": "stream",
          "text": [
            "147/147 [==============================] - 70s 476ms/step - loss: 0.3152 - binary_accuracy: 0.8707 - precision: 0.8262 - recall: 0.7752\n",
            "Epoch 70/100\n",
            "147/147 [==============================] - ETA: 0s - loss: 0.3117 - binary_accuracy: 0.8693 - precision: 0.8226 - recall: 0.7750"
          ]
        },
        {
          "metadata": {
            "tags": null
          },
          "name": "stderr",
          "output_type": "stream",
          "text": [
            "WARNING:tensorflow:Can save best model only with val_loss available, skipping.\n",
            "WARNING:tensorflow:Early stopping conditioned on metric `val_loss` which is not available. Available metrics are: loss,binary_accuracy,precision,recall\n"
          ]
        },
        {
          "metadata": {
            "tags": null
          },
          "name": "stdout",
          "output_type": "stream",
          "text": [
            "147/147 [==============================] - 70s 477ms/step - loss: 0.3117 - binary_accuracy: 0.8693 - precision: 0.8226 - recall: 0.7750\n",
            "Epoch 71/100\n",
            "147/147 [==============================] - ETA: 0s - loss: 0.3097 - binary_accuracy: 0.8685 - precision: 0.8214 - recall: 0.7737"
          ]
        },
        {
          "metadata": {
            "tags": null
          },
          "name": "stderr",
          "output_type": "stream",
          "text": [
            "WARNING:tensorflow:Can save best model only with val_loss available, skipping.\n",
            "WARNING:tensorflow:Early stopping conditioned on metric `val_loss` which is not available. Available metrics are: loss,binary_accuracy,precision,recall\n"
          ]
        },
        {
          "metadata": {
            "tags": null
          },
          "name": "stdout",
          "output_type": "stream",
          "text": [
            "147/147 [==============================] - 71s 481ms/step - loss: 0.3097 - binary_accuracy: 0.8685 - precision: 0.8214 - recall: 0.7737\n",
            "Epoch 72/100\n",
            "147/147 [==============================] - ETA: 0s - loss: 0.3138 - binary_accuracy: 0.8671 - precision: 0.8194 - recall: 0.7711"
          ]
        },
        {
          "metadata": {
            "tags": null
          },
          "name": "stderr",
          "output_type": "stream",
          "text": [
            "WARNING:tensorflow:Can save best model only with val_loss available, skipping.\n",
            "WARNING:tensorflow:Early stopping conditioned on metric `val_loss` which is not available. Available metrics are: loss,binary_accuracy,precision,recall\n"
          ]
        },
        {
          "metadata": {
            "tags": null
          },
          "name": "stdout",
          "output_type": "stream",
          "text": [
            "147/147 [==============================] - 71s 482ms/step - loss: 0.3138 - binary_accuracy: 0.8671 - precision: 0.8194 - recall: 0.7711\n",
            "Epoch 73/100\n",
            "147/147 [==============================] - ETA: 0s - loss: 0.3081 - binary_accuracy: 0.8683 - precision: 0.8232 - recall: 0.7703"
          ]
        },
        {
          "metadata": {
            "tags": null
          },
          "name": "stderr",
          "output_type": "stream",
          "text": [
            "WARNING:tensorflow:Can save best model only with val_loss available, skipping.\n",
            "WARNING:tensorflow:Early stopping conditioned on metric `val_loss` which is not available. Available metrics are: loss,binary_accuracy,precision,recall\n"
          ]
        },
        {
          "metadata": {
            "tags": null
          },
          "name": "stdout",
          "output_type": "stream",
          "text": [
            "147/147 [==============================] - 69s 471ms/step - loss: 0.3081 - binary_accuracy: 0.8683 - precision: 0.8232 - recall: 0.7703\n",
            "Epoch 74/100\n",
            "147/147 [==============================] - ETA: 0s - loss: 0.3085 - binary_accuracy: 0.8681 - precision: 0.8212 - recall: 0.7724"
          ]
        },
        {
          "metadata": {
            "tags": null
          },
          "name": "stderr",
          "output_type": "stream",
          "text": [
            "WARNING:tensorflow:Can save best model only with val_loss available, skipping.\n",
            "WARNING:tensorflow:Early stopping conditioned on metric `val_loss` which is not available. Available metrics are: loss,binary_accuracy,precision,recall\n"
          ]
        },
        {
          "metadata": {
            "tags": null
          },
          "name": "stdout",
          "output_type": "stream",
          "text": [
            "147/147 [==============================] - 70s 474ms/step - loss: 0.3085 - binary_accuracy: 0.8681 - precision: 0.8212 - recall: 0.7724\n",
            "Epoch 75/100\n",
            "147/147 [==============================] - ETA: 0s - loss: 0.3009 - binary_accuracy: 0.8684 - precision: 0.8211 - recall: 0.7739"
          ]
        },
        {
          "metadata": {
            "tags": null
          },
          "name": "stderr",
          "output_type": "stream",
          "text": [
            "WARNING:tensorflow:Can save best model only with val_loss available, skipping.\n",
            "WARNING:tensorflow:Early stopping conditioned on metric `val_loss` which is not available. Available metrics are: loss,binary_accuracy,precision,recall\n"
          ]
        },
        {
          "metadata": {
            "tags": null
          },
          "name": "stdout",
          "output_type": "stream",
          "text": [
            "147/147 [==============================] - 71s 481ms/step - loss: 0.3009 - binary_accuracy: 0.8684 - precision: 0.8211 - recall: 0.7739\n",
            "Epoch 76/100\n",
            "147/147 [==============================] - ETA: 0s - loss: 0.3057 - binary_accuracy: 0.8721 - precision: 0.8258 - recall: 0.7812"
          ]
        },
        {
          "metadata": {
            "tags": null
          },
          "name": "stderr",
          "output_type": "stream",
          "text": [
            "WARNING:tensorflow:Can save best model only with val_loss available, skipping.\n",
            "WARNING:tensorflow:Early stopping conditioned on metric `val_loss` which is not available. Available metrics are: loss,binary_accuracy,precision,recall\n"
          ]
        },
        {
          "metadata": {
            "tags": null
          },
          "name": "stdout",
          "output_type": "stream",
          "text": [
            "147/147 [==============================] - 71s 482ms/step - loss: 0.3057 - binary_accuracy: 0.8721 - precision: 0.8258 - recall: 0.7812\n",
            "Epoch 77/100\n",
            "147/147 [==============================] - ETA: 0s - loss: 0.3058 - binary_accuracy: 0.8714 - precision: 0.8238 - recall: 0.7814"
          ]
        },
        {
          "metadata": {
            "tags": null
          },
          "name": "stderr",
          "output_type": "stream",
          "text": [
            "WARNING:tensorflow:Can save best model only with val_loss available, skipping.\n",
            "WARNING:tensorflow:Early stopping conditioned on metric `val_loss` which is not available. Available metrics are: loss,binary_accuracy,precision,recall\n"
          ]
        },
        {
          "metadata": {
            "tags": null
          },
          "name": "stdout",
          "output_type": "stream",
          "text": [
            "147/147 [==============================] - 70s 476ms/step - loss: 0.3058 - binary_accuracy: 0.8714 - precision: 0.8238 - recall: 0.7814\n",
            "Epoch 78/100\n",
            "147/147 [==============================] - ETA: 0s - loss: 0.3012 - binary_accuracy: 0.8744 - precision: 0.8304 - recall: 0.7831"
          ]
        },
        {
          "metadata": {
            "tags": null
          },
          "name": "stderr",
          "output_type": "stream",
          "text": [
            "WARNING:tensorflow:Can save best model only with val_loss available, skipping.\n",
            "WARNING:tensorflow:Early stopping conditioned on metric `val_loss` which is not available. Available metrics are: loss,binary_accuracy,precision,recall\n"
          ]
        },
        {
          "metadata": {
            "tags": null
          },
          "name": "stdout",
          "output_type": "stream",
          "text": [
            "147/147 [==============================] - 72s 491ms/step - loss: 0.3012 - binary_accuracy: 0.8744 - precision: 0.8304 - recall: 0.7831\n",
            "Epoch 79/100\n",
            "147/147 [==============================] - ETA: 0s - loss: 0.3046 - binary_accuracy: 0.8728 - precision: 0.8289 - recall: 0.7790"
          ]
        },
        {
          "metadata": {
            "tags": null
          },
          "name": "stderr",
          "output_type": "stream",
          "text": [
            "WARNING:tensorflow:Can save best model only with val_loss available, skipping.\n",
            "WARNING:tensorflow:Early stopping conditioned on metric `val_loss` which is not available. Available metrics are: loss,binary_accuracy,precision,recall\n"
          ]
        },
        {
          "metadata": {
            "tags": null
          },
          "name": "stdout",
          "output_type": "stream",
          "text": [
            "147/147 [==============================] - 70s 477ms/step - loss: 0.3046 - binary_accuracy: 0.8728 - precision: 0.8289 - recall: 0.7790\n",
            "Epoch 80/100\n",
            "147/147 [==============================] - ETA: 0s - loss: 0.3007 - binary_accuracy: 0.8698 - precision: 0.8242 - recall: 0.7748"
          ]
        },
        {
          "metadata": {
            "tags": null
          },
          "name": "stderr",
          "output_type": "stream",
          "text": [
            "WARNING:tensorflow:Can save best model only with val_loss available, skipping.\n",
            "WARNING:tensorflow:Early stopping conditioned on metric `val_loss` which is not available. Available metrics are: loss,binary_accuracy,precision,recall\n"
          ]
        },
        {
          "metadata": {
            "tags": null
          },
          "name": "stdout",
          "output_type": "stream",
          "text": [
            "147/147 [==============================] - 70s 475ms/step - loss: 0.3007 - binary_accuracy: 0.8698 - precision: 0.8242 - recall: 0.7748\n",
            "Epoch 81/100\n",
            "147/147 [==============================] - ETA: 0s - loss: 0.3078 - binary_accuracy: 0.8717 - precision: 0.8236 - recall: 0.7827"
          ]
        },
        {
          "metadata": {
            "tags": null
          },
          "name": "stderr",
          "output_type": "stream",
          "text": [
            "WARNING:tensorflow:Can save best model only with val_loss available, skipping.\n",
            "WARNING:tensorflow:Early stopping conditioned on metric `val_loss` which is not available. Available metrics are: loss,binary_accuracy,precision,recall\n"
          ]
        },
        {
          "metadata": {
            "tags": null
          },
          "name": "stdout",
          "output_type": "stream",
          "text": [
            "147/147 [==============================] - 72s 491ms/step - loss: 0.3078 - binary_accuracy: 0.8717 - precision: 0.8236 - recall: 0.7827\n",
            "Epoch 82/100\n",
            "147/147 [==============================] - ETA: 0s - loss: 0.3070 - binary_accuracy: 0.8743 - precision: 0.8299 - recall: 0.7833"
          ]
        },
        {
          "metadata": {
            "tags": null
          },
          "name": "stderr",
          "output_type": "stream",
          "text": [
            "WARNING:tensorflow:Can save best model only with val_loss available, skipping.\n",
            "WARNING:tensorflow:Early stopping conditioned on metric `val_loss` which is not available. Available metrics are: loss,binary_accuracy,precision,recall\n"
          ]
        },
        {
          "metadata": {
            "tags": null
          },
          "name": "stdout",
          "output_type": "stream",
          "text": [
            "147/147 [==============================] - 70s 473ms/step - loss: 0.3070 - binary_accuracy: 0.8743 - precision: 0.8299 - recall: 0.7833\n",
            "Epoch 83/100\n",
            "147/147 [==============================] - ETA: 0s - loss: 0.3087 - binary_accuracy: 0.8707 - precision: 0.8234 - recall: 0.7792"
          ]
        },
        {
          "metadata": {
            "tags": null
          },
          "name": "stderr",
          "output_type": "stream",
          "text": [
            "WARNING:tensorflow:Can save best model only with val_loss available, skipping.\n",
            "WARNING:tensorflow:Early stopping conditioned on metric `val_loss` which is not available. Available metrics are: loss,binary_accuracy,precision,recall\n"
          ]
        },
        {
          "metadata": {
            "tags": null
          },
          "name": "stdout",
          "output_type": "stream",
          "text": [
            "147/147 [==============================] - 70s 475ms/step - loss: 0.3087 - binary_accuracy: 0.8707 - precision: 0.8234 - recall: 0.7792\n",
            "Epoch 84/100\n",
            "147/147 [==============================] - ETA: 0s - loss: 0.3076 - binary_accuracy: 0.8760 - precision: 0.8317 - recall: 0.7871"
          ]
        },
        {
          "metadata": {
            "tags": null
          },
          "name": "stderr",
          "output_type": "stream",
          "text": [
            "WARNING:tensorflow:Can save best model only with val_loss available, skipping.\n",
            "WARNING:tensorflow:Early stopping conditioned on metric `val_loss` which is not available. Available metrics are: loss,binary_accuracy,precision,recall\n"
          ]
        },
        {
          "output_type": "stream",
          "name": "stdout",
          "text": [
            "147/147 [==============================] - 70s 477ms/step - loss: 0.3076 - binary_accuracy: 0.8760 - precision: 0.8317 - recall: 0.7871\n",
            "Epoch 85/100\n",
            "102/147 [===================>..........] - ETA: 21s - loss: 0.2917 - binary_accuracy: 0.8781 - precision: 0.8337 - recall: 0.7925"
          ]
        }
      ]
    },
    {
      "cell_type": "markdown",
      "source": [
        "#Visualizing model performance\n",
        "\n"
      ],
      "metadata": {
        "id": "jC5qhKPzNd5h"
      }
    },
    {
      "cell_type": "code",
      "source": [
        "fig, ax = plt.subplots(1, 4, figsize=(20, 3))\n",
        "ax = ax.ravel()\n",
        "\n",
        "for i, met in enumerate([\"precision\", \"recall\", \"binary_accuracy\", \"loss\"]):\n",
        "    ax[i].plot(history.history[met])\n",
        "    ax[i].plot(history.history[\"val_\" + met])\n",
        "    ax[i].set_title(\"Model {}\".format(met))\n",
        "    ax[i].set_xlabel(\"epochs\")\n",
        "    ax[i].set_ylabel(met)\n",
        "    ax[i].legend([\"train\", \"val\"])"
      ],
      "metadata": {
        "colab": {
          "base_uri": "https://localhost:8080/",
          "height": 236
        },
        "id": "nOPd2y16G2KV",
        "outputId": "751deb3c-e4cb-4350-d06e-d7db73ec3c07"
      },
      "execution_count": null,
      "outputs": [
        {
          "output_type": "error",
          "ename": "NameError",
          "evalue": "ignored",
          "traceback": [
            "\u001b[0;31m---------------------------------------------------------------------------\u001b[0m",
            "\u001b[0;31mNameError\u001b[0m                                 Traceback (most recent call last)",
            "\u001b[0;32m<ipython-input-1-b46b45309a33>\u001b[0m in \u001b[0;36m<module>\u001b[0;34m\u001b[0m\n\u001b[0;32m----> 1\u001b[0;31m \u001b[0mfig\u001b[0m\u001b[0;34m,\u001b[0m \u001b[0max\u001b[0m \u001b[0;34m=\u001b[0m \u001b[0mplt\u001b[0m\u001b[0;34m.\u001b[0m\u001b[0msubplots\u001b[0m\u001b[0;34m(\u001b[0m\u001b[0;36m1\u001b[0m\u001b[0;34m,\u001b[0m \u001b[0;36m4\u001b[0m\u001b[0;34m,\u001b[0m \u001b[0mfigsize\u001b[0m\u001b[0;34m=\u001b[0m\u001b[0;34m(\u001b[0m\u001b[0;36m20\u001b[0m\u001b[0;34m,\u001b[0m \u001b[0;36m3\u001b[0m\u001b[0;34m)\u001b[0m\u001b[0;34m)\u001b[0m\u001b[0;34m\u001b[0m\u001b[0;34m\u001b[0m\u001b[0m\n\u001b[0m\u001b[1;32m      2\u001b[0m \u001b[0max\u001b[0m \u001b[0;34m=\u001b[0m \u001b[0max\u001b[0m\u001b[0;34m.\u001b[0m\u001b[0mravel\u001b[0m\u001b[0;34m(\u001b[0m\u001b[0;34m)\u001b[0m\u001b[0;34m\u001b[0m\u001b[0;34m\u001b[0m\u001b[0m\n\u001b[1;32m      3\u001b[0m \u001b[0;34m\u001b[0m\u001b[0m\n\u001b[1;32m      4\u001b[0m \u001b[0;32mfor\u001b[0m \u001b[0mi\u001b[0m\u001b[0;34m,\u001b[0m \u001b[0mmet\u001b[0m \u001b[0;32min\u001b[0m \u001b[0menumerate\u001b[0m\u001b[0;34m(\u001b[0m\u001b[0;34m[\u001b[0m\u001b[0;34m\"precision\"\u001b[0m\u001b[0;34m,\u001b[0m \u001b[0;34m\"recall\"\u001b[0m\u001b[0;34m,\u001b[0m \u001b[0;34m\"binary_accuracy\"\u001b[0m\u001b[0;34m,\u001b[0m \u001b[0;34m\"loss\"\u001b[0m\u001b[0;34m]\u001b[0m\u001b[0;34m)\u001b[0m\u001b[0;34m:\u001b[0m\u001b[0;34m\u001b[0m\u001b[0;34m\u001b[0m\u001b[0m\n\u001b[1;32m      5\u001b[0m     \u001b[0max\u001b[0m\u001b[0;34m[\u001b[0m\u001b[0mi\u001b[0m\u001b[0;34m]\u001b[0m\u001b[0;34m.\u001b[0m\u001b[0mplot\u001b[0m\u001b[0;34m(\u001b[0m\u001b[0mhistory\u001b[0m\u001b[0;34m.\u001b[0m\u001b[0mhistory\u001b[0m\u001b[0;34m[\u001b[0m\u001b[0mmet\u001b[0m\u001b[0;34m]\u001b[0m\u001b[0;34m)\u001b[0m\u001b[0;34m\u001b[0m\u001b[0;34m\u001b[0m\u001b[0m\n",
            "\u001b[0;31mNameError\u001b[0m: name 'plt' is not defined"
          ]
        }
      ]
    },
    {
      "cell_type": "markdown",
      "source": [
        "#Predict and evaluate results\n"
      ],
      "metadata": {
        "id": "2TmG0XjOSK2a"
      }
    },
    {
      "cell_type": "code",
      "source": [
        "model.evaluate(x_test, return_dict=True)"
      ],
      "metadata": {
        "id": "i1NDTOFrG81V"
      },
      "execution_count": null,
      "outputs": []
    },
    {
      "cell_type": "code",
      "source": [
        "predict_labels = model.predict(x_test, batch_size=32)"
      ],
      "metadata": {
        "id": "4mNQdao-awkB"
      },
      "execution_count": null,
      "outputs": []
    },
    {
      "cell_type": "code",
      "source": [
        "predict_df = pd.DataFrame(predict_labels, columns=['without_pneumonia', 'bacteria_pneumonia', 'viral_pneumonia'])"
      ],
      "metadata": {
        "id": "xatlspIKYFCj"
      },
      "execution_count": null,
      "outputs": []
    },
    {
      "cell_type": "code",
      "source": [],
      "metadata": {
        "id": "Fv3WnITeb64W"
      },
      "execution_count": null,
      "outputs": []
    },
    {
      "cell_type": "markdown",
      "source": [
        "## Dúvidas:\n",
        "\n",
        "* O método 'validation_data' da função model.fit é o conjunto de x_test ou x_val?\n",
        "* A função 'transform_resize_normalize' pode ser substituída pela 'flow_from_dataframe' no tensor?\n",
        "* Posso utilizar o método de data augmentation no conjunto X_train e X_test duplicando algumas imagens já que o datagen vai gerar novas imagens e a duplicidade será extinta?\n",
        "* Ao invés do data augmentation, a ponderação seria melhor nesse caso?\n",
        "* Como fazer matriz de confusão para os três labels? [0, 1 e 2]\n",
        "\n",
        "## Melhorias:\n",
        "* Validar se os dataset predict_df e X_test apresentam o mesmo index;\n",
        "* Ampliar as métricas de performance do modelo;\n",
        "* Tentar dividir os conjuntos em treino, teste e validação;\n",
        "* Fazer função para o data augmentaion\n",
        "* Existem outros modelos que podemos testar?\n",
        "\n",
        " \n"
      ],
      "metadata": {
        "id": "MknwltUHeE9L"
      }
    },
    {
      "cell_type": "code",
      "source": [],
      "metadata": {
        "id": "vSauURuzg2ib"
      },
      "execution_count": null,
      "outputs": []
    }
  ]
}